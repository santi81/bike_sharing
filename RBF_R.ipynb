{
 "cells": [
  {
   "cell_type": "code",
   "execution_count": 1,
   "metadata": {},
   "outputs": [],
   "source": [
    "train= read.csv('train.csv')\n",
    "test= read.csv('test.csv')"
   ]
  },
  {
   "cell_type": "code",
   "execution_count": 3,
   "metadata": {},
   "outputs": [
    {
     "name": "stdout",
     "output_type": "stream",
     "text": [
      "\n",
      "The downloaded binary packages are in\n",
      "\t/var/folders/qk/0vhw5p4n2610vyrs2zqjmj2h0000gn/T//RtmpQOuu8A/downloaded_packages\n"
     ]
    }
   ],
   "source": [
    "install.packages(\"RSNNS\")"
   ]
  },
  {
   "cell_type": "code",
   "execution_count": 6,
   "metadata": {},
   "outputs": [
    {
     "name": "stdout",
     "output_type": "stream",
     "text": [
      "\n",
      "The downloaded binary packages are in\n",
      "\t/var/folders/qk/0vhw5p4n2610vyrs2zqjmj2h0000gn/T//RtmpQOuu8A/downloaded_packages\n"
     ]
    }
   ],
   "source": [
    "install.packages(\"Metrics\")"
   ]
  },
  {
   "cell_type": "code",
   "execution_count": 7,
   "metadata": {},
   "outputs": [],
   "source": [
    "library(\"RSNNS\")        # for rbf\n",
    "library(\"e1071\")        # for tune\n",
    "library(\"Metrics\")        # for mse"
   ]
  },
  {
   "cell_type": "code",
   "execution_count": 8,
   "metadata": {},
   "outputs": [],
   "source": [
    "#--------normalization-------------\n",
    "target_max<-max(train$target)\n",
    "target_min<-min(train$target)"
   ]
  },
  {
   "cell_type": "code",
   "execution_count": 9,
   "metadata": {},
   "outputs": [],
   "source": [
    "de_normalization<-function(data,train_max,train_min){\n",
    "  return(as.integer(data*(train_max-train_min)+train_min))\n",
    "}"
   ]
  },
  {
   "cell_type": "code",
   "execution_count": 10,
   "metadata": {},
   "outputs": [],
   "source": [
    "# RBF model\n",
    "# 1 choose input variables\n",
    "input1 <-c(\"temp\",\"atemp\",\"hum\", \"windspeed\" ,\"cnt_normal\",\"week_moving_avg_normal\",\n",
    "           \"season_1\",\"season_2\",\"season_3\",\"season_4\",\n",
    "           \"mnth_1\",\"mnth_2\",\"mnth_3\",\"mnth_4\",\"mnth_5\",\"mnth_6\",\"mnth_7\",\"mnth_8\",\"mnth_9\",\"mnth_10\",\"mnth_11\",\"mnth_12\",\n",
    "           \"holiday_1\",\"holiday_2\",\n",
    "           \"weekday_1\",\"weekday_2\",\"weekday_3\",\"weekday_4\",\"weekday_5\",\"weekday_6\",\"weekday_7\",\n",
    "           \"workingday_1\",\"workingday_2\",\n",
    "           \"weathersit_1\",\"weathersit_2\",\"weathersit_3\"\n",
    ")"
   ]
  },
  {
   "cell_type": "code",
   "execution_count": null,
   "metadata": {},
   "outputs": [],
   "source": [
    "# 2 tune parameter \n",
    "# the number of nodes in second layer\n",
    "obj <- tune(rbf, train.x = as.matrix(train[,input1]), train.y = as.matrix(train$target_normal),\n",
    "            validation.x = NULL, validation.y = NULL, \n",
    "            ranges = (size = c(5:40)))  # set the number range from 5 to 40 \n",
    "summary(obj)\n",
    "plot(obj)"
   ]
  },
  {
   "cell_type": "code",
   "execution_count": null,
   "metadata": {},
   "outputs": [],
   "source": [
    "# 3 run rbf model with the best parameter\n",
    "rbf1 <- rbf(as.matrix(train[,input1]), as.matrix(train$target_normal),\n",
    "            size = 28,\n",
    "            maxit = 4000,\n",
    "            initFuncParams = c(0, 1, 0, 0.01, 0.01),\n",
    "            learnFuncParams=c(1e-8, 0, 1e-8, 0.1, 0.8), \n",
    "            linOut=TRUE)"
   ]
  },
  {
   "cell_type": "code",
   "execution_count": null,
   "metadata": {},
   "outputs": [],
   "source": [
    "# 4 get predicted target and calculate profit and mse\n",
    "rbf1_prediction <- de_normalization(predict(rbf1, test[,input1]),target_max,target_min)\n",
    "rbf1_profit <- sum(pmin(rbf1_prediction,test$target)*3 - rbf1_prediction*2)   # 1495860\n",
    "mse = mse(rbf1_prediction, test$target)              # 2368631\n"
   ]
  },
  {
   "cell_type": "code",
   "execution_count": null,
   "metadata": {},
   "outputs": [],
   "source": [
    "# 5 draw absolute error over time\n",
    "abs_error_function <- function(predicted_data, observed_data){\n",
    "  abs_error <- abs(predicted_data - observed_data)\n",
    "  x =ts(abs_error,start=2012,frequency=365)       #build time series, frequency=365\n",
    "  plot(x,ylab = 'Absolute Error', xlab = 'Day', main = 'Trend of Absolute Error', xaxt=\"n\")\n",
    "  axis(side=1, c(2012, 2013), tcl=-0.2, ann = F, labels=TRUE, mgp = c(2, 1, 0))\n",
    "}\n",
    "abs_error_function(rbf1_prediction, test$target )"
   ]
  },
  {
   "cell_type": "code",
   "execution_count": null,
   "metadata": {},
   "outputs": [],
   "source": []
  }
 ],
 "metadata": {
  "kernelspec": {
   "display_name": "R",
   "language": "R",
   "name": "ir"
  },
  "language_info": {
   "codemirror_mode": "r",
   "file_extension": ".r",
   "mimetype": "text/x-r-source",
   "name": "R",
   "pygments_lexer": "r",
   "version": "3.5.0"
  }
 },
 "nbformat": 4,
 "nbformat_minor": 2
}
