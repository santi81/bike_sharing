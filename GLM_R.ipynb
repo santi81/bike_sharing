{
 "cells": [
  {
   "cell_type": "code",
   "execution_count": 2,
   "metadata": {},
   "outputs": [
    {
     "name": "stderr",
     "output_type": "stream",
     "text": [
      "also installing the dependencies ‘pkgconfig’, ‘BH’, ‘rematch’, ‘assertthat’, ‘fansi’, ‘utf8’, ‘forcats’, ‘hms’, ‘readr’, ‘cellranger’, ‘zip’, ‘cli’, ‘pillar’, ‘rlang’, ‘SparseM’, ‘MatrixModels’, ‘haven’, ‘data.table’, ‘readxl’, ‘openxlsx’, ‘tibble’, ‘minqa’, ‘nloptr’, ‘RcppEigen’, ‘carData’, ‘abind’, ‘pbkrtest’, ‘quantreg’, ‘rio’, ‘lme4’\n",
      "\n"
     ]
    },
    {
     "name": "stdout",
     "output_type": "stream",
     "text": [
      "\n",
      "The downloaded binary packages are in\n",
      "\t/var/folders/qk/0vhw5p4n2610vyrs2zqjmj2h0000gn/T//Rtmpf57TK2/downloaded_packages\n"
     ]
    }
   ],
   "source": [
    "install.packages(\"car\")"
   ]
  },
  {
   "cell_type": "code",
   "execution_count": 3,
   "metadata": {},
   "outputs": [
    {
     "name": "stderr",
     "output_type": "stream",
     "text": [
      "Loading required package: carData\n"
     ]
    }
   ],
   "source": [
    "library(car)"
   ]
  },
  {
   "cell_type": "code",
   "execution_count": 10,
   "metadata": {},
   "outputs": [],
   "source": [
    "train_data = read.csv('train.csv')\n",
    "test_data = read.csv('test.csv')"
   ]
  },
  {
   "cell_type": "code",
   "execution_count": 11,
   "metadata": {},
   "outputs": [],
   "source": [
    "#  convert data type\n",
    "train_data$season = as.factor(train_data$season)\n",
    "train_data$mnth = as.factor(train_data$mnth)\n",
    "train_data$holiday = as.factor(train_data$holiday)\n",
    "train_data$workingday = as.factor(train_data$workingday)\n",
    "train_data$weathersit = as.factor(train_data$weathersit)\n",
    "train_data$weekday = as.factor(train_data$weekday)\n",
    "\n",
    "test_data$season = as.factor(test_data$season)\n",
    "test_data$mnth = as.factor(test_data$mnth)\n",
    "test_data$holiday = as.factor(test_data$holiday)\n",
    "test_data$workingday = as.factor(test_data$workingday)\n",
    "test_data$weathersit = as.factor(test_data$weathersit)\n",
    "test_data$weekday = as.factor(test_data$weekday)"
   ]
  },
  {
   "cell_type": "code",
   "execution_count": 12,
   "metadata": {},
   "outputs": [
    {
     "data": {
      "text/html": [
       "<table>\n",
       "<thead><tr><th></th><th scope=col>LR Chisq</th><th scope=col>Df</th><th scope=col>Pr(&gt;Chisq)</th></tr></thead>\n",
       "<tbody>\n",
       "\t<tr><th scope=row>season</th><td> 2950.535645 </td><td> 3           </td><td> 0.000000e+00</td></tr>\n",
       "\t<tr><th scope=row>mnth</th><td>10842.183882 </td><td>11           </td><td> 0.000000e+00</td></tr>\n",
       "\t<tr><th scope=row>holiday</th><td>          NA </td><td> 0           </td><td>           NA</td></tr>\n",
       "\t<tr><th scope=row>weekday</th><td>  575.969650 </td><td> 5           </td><td>3.143821e-122</td></tr>\n",
       "\t<tr><th scope=row>workingday</th><td>          NA </td><td> 0           </td><td>           NA</td></tr>\n",
       "\t<tr><th scope=row>weathersit</th><td>  416.647957 </td><td> 2           </td><td> 3.357729e-91</td></tr>\n",
       "\t<tr><th scope=row>atemp</th><td>    3.459363 </td><td> 1           </td><td> 6.289454e-02</td></tr>\n",
       "\t<tr><th scope=row>hum</th><td>   69.593239 </td><td> 1           </td><td> 7.288631e-17</td></tr>\n",
       "\t<tr><th scope=row>windspeed</th><td>   57.660136 </td><td> 1           </td><td> 3.115533e-14</td></tr>\n",
       "\t<tr><th scope=row>week_moving_avg</th><td>    4.620867 </td><td> 1           </td><td> 3.158527e-02</td></tr>\n",
       "</tbody>\n",
       "</table>\n"
      ],
      "text/latex": [
       "\\begin{tabular}{r|lll}\n",
       "  & LR Chisq & Df & Pr(>Chisq)\\\\\n",
       "\\hline\n",
       "\tseason &  2950.535645  &  3            &  0.000000e+00\\\\\n",
       "\tmnth & 10842.183882  & 11            &  0.000000e+00\\\\\n",
       "\tholiday &           NA  &  0            &            NA\\\\\n",
       "\tweekday &   575.969650  &  5            & 3.143821e-122\\\\\n",
       "\tworkingday &           NA  &  0            &            NA\\\\\n",
       "\tweathersit &   416.647957  &  2            &  3.357729e-91\\\\\n",
       "\tatemp &     3.459363  &  1            &  6.289454e-02\\\\\n",
       "\thum &    69.593239  &  1            &  7.288631e-17\\\\\n",
       "\twindspeed &    57.660136  &  1            &  3.115533e-14\\\\\n",
       "\tweek\\_moving\\_avg &     4.620867  &  1            &  3.158527e-02\\\\\n",
       "\\end{tabular}\n"
      ],
      "text/markdown": [
       "\n",
       "| <!--/--> | LR Chisq | Df | Pr(>Chisq) | \n",
       "|---|---|---|---|---|---|---|---|---|---|\n",
       "| season |  2950.535645  |  3            |  0.000000e+00 | \n",
       "| mnth | 10842.183882  | 11            |  0.000000e+00 | \n",
       "| holiday |           NA  |  0            |            NA | \n",
       "| weekday |   575.969650  |  5            | 3.143821e-122 | \n",
       "| workingday |           NA  |  0            |            NA | \n",
       "| weathersit |   416.647957  |  2            |  3.357729e-91 | \n",
       "| atemp |     3.459363  |  1            |  6.289454e-02 | \n",
       "| hum |    69.593239  |  1            |  7.288631e-17 | \n",
       "| windspeed |    57.660136  |  1            |  3.115533e-14 | \n",
       "| week_moving_avg |     4.620867  |  1            |  3.158527e-02 | \n",
       "\n",
       "\n"
      ],
      "text/plain": [
       "                LR Chisq     Df Pr(>Chisq)   \n",
       "season           2950.535645  3  0.000000e+00\n",
       "mnth            10842.183882 11  0.000000e+00\n",
       "holiday                   NA  0            NA\n",
       "weekday           575.969650  5 3.143821e-122\n",
       "workingday                NA  0            NA\n",
       "weathersit        416.647957  2  3.357729e-91\n",
       "atemp               3.459363  1  6.289454e-02\n",
       "hum                69.593239  1  7.288631e-17\n",
       "windspeed          57.660136  1  3.115533e-14\n",
       "week_moving_avg     4.620867  1  3.158527e-02"
      ]
     },
     "metadata": {},
     "output_type": "display_data"
    },
    {
     "name": "stderr",
     "output_type": "stream",
     "text": [
      "Warning message in predict.lm(object, newdata, se.fit, scale = 1, type = ifelse(type == :\n",
      "“prediction from a rank-deficient fit may be misleading”"
     ]
    }
   ],
   "source": [
    "# GLM\n",
    "glm1 <- glm(target ~ season + mnth + holiday + weekday + workingday + weathersit + \n",
    "                     atemp + hum + windspeed + week_moving_avg,\n",
    "            family = poisson(), data = train_data)\n",
    "Anova(glm1)\n",
    "glm1_prediction <- as.integer(exp(predict(glm1, test_data, se.fit = FALSE)))\n",
    "glm1_profit <- sum(pmin(glm1_prediction,test_data$target)*3 - glm1_prediction*2)      #1190116  delete temp"
   ]
  },
  {
   "cell_type": "code",
   "execution_count": 16,
   "metadata": {},
   "outputs": [
    {
     "data": {
      "text/html": [
       "1190116"
      ],
      "text/latex": [
       "1190116"
      ],
      "text/markdown": [
       "1190116"
      ],
      "text/plain": [
       "[1] 1190116"
      ]
     },
     "metadata": {},
     "output_type": "display_data"
    }
   ],
   "source": [
    "glm1_profit"
   ]
  },
  {
   "cell_type": "code",
   "execution_count": 13,
   "metadata": {},
   "outputs": [
    {
     "data": {
      "text/html": [
       "<table>\n",
       "<thead><tr><th></th><th scope=col>LR Chisq</th><th scope=col>Df</th><th scope=col>Pr(&gt;Chisq)</th></tr></thead>\n",
       "<tbody>\n",
       "\t<tr><th scope=row>season</th><td> 2998.97521  </td><td> 3           </td><td> 0.000000e+00</td></tr>\n",
       "\t<tr><th scope=row>mnth</th><td>12509.43161  </td><td>11           </td><td> 0.000000e+00</td></tr>\n",
       "\t<tr><th scope=row>holiday</th><td>         NA  </td><td> 0           </td><td>           NA</td></tr>\n",
       "\t<tr><th scope=row>weekday</th><td>  586.29706  </td><td> 5           </td><td>1.846829e-124</td></tr>\n",
       "\t<tr><th scope=row>workingday</th><td>         NA  </td><td> 0           </td><td>           NA</td></tr>\n",
       "\t<tr><th scope=row>weathersit</th><td>  413.94650  </td><td> 2           </td><td> 1.296165e-90</td></tr>\n",
       "\t<tr><th scope=row>hum</th><td>   66.27152  </td><td> 1           </td><td> 3.928950e-16</td></tr>\n",
       "\t<tr><th scope=row>windspeed</th><td>   57.16566  </td><td> 1           </td><td> 4.006062e-14</td></tr>\n",
       "\t<tr><th scope=row>week_moving_avg</th><td>    2.86368  </td><td> 1           </td><td> 9.060001e-02</td></tr>\n",
       "</tbody>\n",
       "</table>\n"
      ],
      "text/latex": [
       "\\begin{tabular}{r|lll}\n",
       "  & LR Chisq & Df & Pr(>Chisq)\\\\\n",
       "\\hline\n",
       "\tseason &  2998.97521   &  3            &  0.000000e+00\\\\\n",
       "\tmnth & 12509.43161   & 11            &  0.000000e+00\\\\\n",
       "\tholiday &          NA   &  0            &            NA\\\\\n",
       "\tweekday &   586.29706   &  5            & 1.846829e-124\\\\\n",
       "\tworkingday &          NA   &  0            &            NA\\\\\n",
       "\tweathersit &   413.94650   &  2            &  1.296165e-90\\\\\n",
       "\thum &    66.27152   &  1            &  3.928950e-16\\\\\n",
       "\twindspeed &    57.16566   &  1            &  4.006062e-14\\\\\n",
       "\tweek\\_moving\\_avg &     2.86368   &  1            &  9.060001e-02\\\\\n",
       "\\end{tabular}\n"
      ],
      "text/markdown": [
       "\n",
       "| <!--/--> | LR Chisq | Df | Pr(>Chisq) | \n",
       "|---|---|---|---|---|---|---|---|---|\n",
       "| season |  2998.97521   |  3            |  0.000000e+00 | \n",
       "| mnth | 12509.43161   | 11            |  0.000000e+00 | \n",
       "| holiday |          NA   |  0            |            NA | \n",
       "| weekday |   586.29706   |  5            | 1.846829e-124 | \n",
       "| workingday |          NA   |  0            |            NA | \n",
       "| weathersit |   413.94650   |  2            |  1.296165e-90 | \n",
       "| hum |    66.27152   |  1            |  3.928950e-16 | \n",
       "| windspeed |    57.16566   |  1            |  4.006062e-14 | \n",
       "| week_moving_avg |     2.86368   |  1            |  9.060001e-02 | \n",
       "\n",
       "\n"
      ],
      "text/plain": [
       "                LR Chisq    Df Pr(>Chisq)   \n",
       "season           2998.97521  3  0.000000e+00\n",
       "mnth            12509.43161 11  0.000000e+00\n",
       "holiday                  NA  0            NA\n",
       "weekday           586.29706  5 1.846829e-124\n",
       "workingday               NA  0            NA\n",
       "weathersit        413.94650  2  1.296165e-90\n",
       "hum                66.27152  1  3.928950e-16\n",
       "windspeed          57.16566  1  4.006062e-14\n",
       "week_moving_avg     2.86368  1  9.060001e-02"
      ]
     },
     "metadata": {},
     "output_type": "display_data"
    },
    {
     "name": "stderr",
     "output_type": "stream",
     "text": [
      "Warning message in predict.lm(object, newdata, se.fit, scale = 1, type = ifelse(type == :\n",
      "“prediction from a rank-deficient fit may be misleading”"
     ]
    }
   ],
   "source": [
    "glm2 <- glm(target ~ season + mnth + holiday + weekday + workingday + weathersit + \n",
    "            hum + windspeed + week_moving_avg,\n",
    "            family = poisson(), data = train_data)\n",
    "Anova(glm2)\n",
    "glm2_prediction <- as.integer(exp(predict(glm2, test_data, se.fit = FALSE)))\n",
    "glm2_profit <- sum(pmin(glm2_prediction,test_data$target)*3 - glm2_prediction*2)     # 1187601 delete atemp"
   ]
  },
  {
   "cell_type": "code",
   "execution_count": 17,
   "metadata": {},
   "outputs": [
    {
     "data": {
      "text/html": [
       "1187601"
      ],
      "text/latex": [
       "1187601"
      ],
      "text/markdown": [
       "1187601"
      ],
      "text/plain": [
       "[1] 1187601"
      ]
     },
     "metadata": {},
     "output_type": "display_data"
    }
   ],
   "source": [
    "glm2_profit"
   ]
  },
  {
   "cell_type": "code",
   "execution_count": 14,
   "metadata": {},
   "outputs": [
    {
     "data": {
      "text/html": [
       "<table>\n",
       "<thead><tr><th></th><th scope=col>LR Chisq</th><th scope=col>Df</th><th scope=col>Pr(&gt;Chisq)</th></tr></thead>\n",
       "<tbody>\n",
       "\t<tr><th scope=row>season</th><td> 3350.68583  </td><td> 3           </td><td> 0.000000e+00</td></tr>\n",
       "\t<tr><th scope=row>mnth</th><td>28317.32867  </td><td>11           </td><td> 0.000000e+00</td></tr>\n",
       "\t<tr><th scope=row>holiday</th><td>         NA  </td><td> 0           </td><td>           NA</td></tr>\n",
       "\t<tr><th scope=row>weekday</th><td>  592.15006  </td><td> 5           </td><td>1.004417e-125</td></tr>\n",
       "\t<tr><th scope=row>workingday</th><td>         NA  </td><td> 0           </td><td>           NA</td></tr>\n",
       "\t<tr><th scope=row>weathersit</th><td>  429.79964  </td><td> 2           </td><td> 4.679442e-94</td></tr>\n",
       "\t<tr><th scope=row>hum</th><td>   67.47551  </td><td> 1           </td><td> 2.133203e-16</td></tr>\n",
       "\t<tr><th scope=row>windspeed</th><td>   58.14032  </td><td> 1           </td><td> 2.440718e-14</td></tr>\n",
       "</tbody>\n",
       "</table>\n"
      ],
      "text/latex": [
       "\\begin{tabular}{r|lll}\n",
       "  & LR Chisq & Df & Pr(>Chisq)\\\\\n",
       "\\hline\n",
       "\tseason &  3350.68583   &  3            &  0.000000e+00\\\\\n",
       "\tmnth & 28317.32867   & 11            &  0.000000e+00\\\\\n",
       "\tholiday &          NA   &  0            &            NA\\\\\n",
       "\tweekday &   592.15006   &  5            & 1.004417e-125\\\\\n",
       "\tworkingday &          NA   &  0            &            NA\\\\\n",
       "\tweathersit &   429.79964   &  2            &  4.679442e-94\\\\\n",
       "\thum &    67.47551   &  1            &  2.133203e-16\\\\\n",
       "\twindspeed &    58.14032   &  1            &  2.440718e-14\\\\\n",
       "\\end{tabular}\n"
      ],
      "text/markdown": [
       "\n",
       "| <!--/--> | LR Chisq | Df | Pr(>Chisq) | \n",
       "|---|---|---|---|---|---|---|---|\n",
       "| season |  3350.68583   |  3            |  0.000000e+00 | \n",
       "| mnth | 28317.32867   | 11            |  0.000000e+00 | \n",
       "| holiday |          NA   |  0            |            NA | \n",
       "| weekday |   592.15006   |  5            | 1.004417e-125 | \n",
       "| workingday |          NA   |  0            |            NA | \n",
       "| weathersit |   429.79964   |  2            |  4.679442e-94 | \n",
       "| hum |    67.47551   |  1            |  2.133203e-16 | \n",
       "| windspeed |    58.14032   |  1            |  2.440718e-14 | \n",
       "\n",
       "\n"
      ],
      "text/plain": [
       "           LR Chisq    Df Pr(>Chisq)   \n",
       "season      3350.68583  3  0.000000e+00\n",
       "mnth       28317.32867 11  0.000000e+00\n",
       "holiday             NA  0            NA\n",
       "weekday      592.15006  5 1.004417e-125\n",
       "workingday          NA  0            NA\n",
       "weathersit   429.79964  2  4.679442e-94\n",
       "hum           67.47551  1  2.133203e-16\n",
       "windspeed     58.14032  1  2.440718e-14"
      ]
     },
     "metadata": {},
     "output_type": "display_data"
    },
    {
     "name": "stderr",
     "output_type": "stream",
     "text": [
      "Warning message in predict.lm(object, newdata, se.fit, scale = 1, type = ifelse(type == :\n",
      "“prediction from a rank-deficient fit may be misleading”"
     ]
    }
   ],
   "source": [
    "glm3 <- glm(target ~ season + mnth + holiday + weekday + workingday + weathersit + \n",
    "                     hum + windspeed,\n",
    "            family = poisson(), data = train_data)\n",
    "Anova(glm3)\n",
    "glm3_prediction <- as.integer(exp(predict(glm3, test_data, se.fit = FALSE)))\n",
    "glm3_profit <- sum(pmin(glm3_prediction,test_data$target)*3 - glm3_prediction*2)     # 1178210 delete week_moving_avg"
   ]
  },
  {
   "cell_type": "code",
   "execution_count": 18,
   "metadata": {},
   "outputs": [
    {
     "data": {
      "text/html": [
       "1178210"
      ],
      "text/latex": [
       "1178210"
      ],
      "text/markdown": [
       "1178210"
      ],
      "text/plain": [
       "[1] 1178210"
      ]
     },
     "metadata": {},
     "output_type": "display_data"
    }
   ],
   "source": [
    "glm3_profit"
   ]
  },
  {
   "cell_type": "code",
   "execution_count": 20,
   "metadata": {},
   "outputs": [
    {
     "name": "stdout",
     "output_type": "stream",
     "text": [
      "\n",
      "The downloaded binary packages are in\n",
      "\t/var/folders/qk/0vhw5p4n2610vyrs2zqjmj2h0000gn/T//Rtmpf57TK2/downloaded_packages\n"
     ]
    }
   ],
   "source": [
    "install.packages(\"qcc\")"
   ]
  },
  {
   "cell_type": "code",
   "execution_count": 21,
   "metadata": {},
   "outputs": [
    {
     "name": "stderr",
     "output_type": "stream",
     "text": [
      "Loading required package: qcc\n",
      "Package 'qcc' version 2.7\n",
      "Type 'citation(\"qcc\")' for citing this R package in publications.\n"
     ]
    },
    {
     "data": {
      "text/html": [
       "<table>\n",
       "<thead><tr><th></th><th scope=col>Obs.Var/Theor.Var</th><th scope=col>Statistic</th><th scope=col>p-value</th></tr></thead>\n",
       "<tbody>\n",
       "\t<tr><th scope=row>poisson data</th><td>567.994 </td><td>207317.8</td><td>0       </td></tr>\n",
       "</tbody>\n",
       "</table>\n"
      ],
      "text/latex": [
       "\\begin{tabular}{r|lll}\n",
       "  & Obs.Var/Theor.Var & Statistic & p-value\\\\\n",
       "\\hline\n",
       "\tpoisson data & 567.994  & 207317.8 & 0       \\\\\n",
       "\\end{tabular}\n"
      ],
      "text/markdown": [
       "\n",
       "| <!--/--> | Obs.Var/Theor.Var | Statistic | p-value | \n",
       "|---|\n",
       "| poisson data | 567.994  | 207317.8 | 0        | \n",
       "\n",
       "\n"
      ],
      "text/plain": [
       "                   \n",
       "Overdispersion test Obs.Var/Theor.Var Statistic p-value\n",
       "       poisson data 567.994           207317.8  0      "
      ]
     },
     "metadata": {},
     "output_type": "display_data"
    }
   ],
   "source": [
    "# test overdispersion\n",
    "require(qcc)\n",
    "qcc.overdispersion.test(test_data$cnt, type = \"poisson\")"
   ]
  }
 ],
 "metadata": {
  "kernelspec": {
   "display_name": "R",
   "language": "R",
   "name": "ir"
  },
  "language_info": {
   "codemirror_mode": "r",
   "file_extension": ".r",
   "mimetype": "text/x-r-source",
   "name": "R",
   "pygments_lexer": "r",
   "version": "3.5.0"
  }
 },
 "nbformat": 4,
 "nbformat_minor": 2
}
