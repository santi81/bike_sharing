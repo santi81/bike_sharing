{
 "cells": [
  {
   "cell_type": "markdown",
   "metadata": {},
   "source": [
    "## Definition"
   ]
  },
  {
   "cell_type": "markdown",
   "metadata": {},
   "source": [
    "### Problem Statement  \n",
    "\n",
    "The goal is to forecast the demand for bikes in dependency of weather conditions like outside temperature and calendric informations e.g. holidays. These information and the demand structure is provided in a set with two years of daily historic data.  \n",
    "The demand is given as the total daily demand and as a split for registered users and casual users. To increase the quality of the prediction registered user demand and casual user demand will be predicted separately in step two.  \n",
    "To make predictions machine learning is used to train regressors. Scikit-Learn recommends a support vector regressor (SVR) for this kind of problem and data amount. In addition a deep neuronal network (DNN) regressor is trained for comparison. To find the hyper-parameters for these regressors grid search and randomized search are utilized. Due to the small dataset cross validation is applied.    \n",
    "\n",
    "> http://scikit-learn.org/stable/tutorial/machine_learning_map/index.html  \n",
    "> http://scikit-learn.org/stable/modules/generated/sklearn.svm.SVR.html#sklearn.svm.SVR  \n",
    "> https://github.com/tensorflow/skflow/blob/master/g3doc/api_docs/python/estimators.md  \n",
    "> http://scikit-learn.org/stable/modules/generated/sklearn.grid_search.GridSearchCV.html  \n",
    "> http://scikit-learn.org/stable/modules/generated/sklearn.grid_search.RandomizedSearchCV.html"
   ]
  },
  {
   "cell_type": "code",
   "execution_count": 1,
   "metadata": {},
   "outputs": [
    {
     "name": "stderr",
     "output_type": "stream",
     "text": [
      "/anaconda3/lib/python3.6/site-packages/sklearn/cross_validation.py:41: DeprecationWarning: This module was deprecated in version 0.18 in favor of the model_selection module into which all the refactored classes and functions are moved. Also note that the interface of the new CV iterators are different from that of this module. This module will be removed in 0.20.\n",
      "  \"This module will be removed in 0.20.\", DeprecationWarning)\n",
      "/anaconda3/lib/python3.6/site-packages/sklearn/grid_search.py:42: DeprecationWarning: This module was deprecated in version 0.18 in favor of the model_selection module into which all the refactored classes and functions are moved. This module will be removed in 0.20.\n",
      "  DeprecationWarning)\n"
     ]
    }
   ],
   "source": [
    "# Import libraries\n",
    "\n",
    "import numpy as np\n",
    "import pandas as pd\n",
    "import matplotlib.pyplot as plt\n",
    "import calendar\n",
    "\n",
    "from sklearn.svm import SVR\n",
    "from sklearn.cross_validation import train_test_split\n",
    "from sklearn.grid_search import GridSearchCV, RandomizedSearchCV\n",
    "from sklearn.metrics import r2_score, mean_squared_error\n",
    "from scipy.stats import randint as sp_randint\n",
    "from scipy.stats import uniform as sp_uniform\n",
    "from math import sqrt"
   ]
  },
  {
   "cell_type": "markdown",
   "metadata": {},
   "source": [
    "## Analysis"
   ]
  },
  {
   "cell_type": "code",
   "execution_count": 2,
   "metadata": {},
   "outputs": [
    {
     "name": "stdout",
     "output_type": "stream",
     "text": [
      "Data read successfully!\n"
     ]
    }
   ],
   "source": [
    "# Fetching Dataset\n",
    "\n",
    "bike_data = pd.read_csv(\"day.csv\", header=0)\n",
    "\n",
    "print(\"Data read successfully!\")"
   ]
  },
  {
   "cell_type": "code",
   "execution_count": 3,
   "metadata": {},
   "outputs": [
    {
     "data": {
      "text/html": [
       "<div>\n",
       "<style scoped>\n",
       "    .dataframe tbody tr th:only-of-type {\n",
       "        vertical-align: middle;\n",
       "    }\n",
       "\n",
       "    .dataframe tbody tr th {\n",
       "        vertical-align: top;\n",
       "    }\n",
       "\n",
       "    .dataframe thead th {\n",
       "        text-align: right;\n",
       "    }\n",
       "</style>\n",
       "<table border=\"1\" class=\"dataframe\">\n",
       "  <thead>\n",
       "    <tr style=\"text-align: right;\">\n",
       "      <th></th>\n",
       "      <th>instant</th>\n",
       "      <th>dteday</th>\n",
       "      <th>season</th>\n",
       "      <th>yr</th>\n",
       "      <th>mnth</th>\n",
       "      <th>holiday</th>\n",
       "      <th>weekday</th>\n",
       "      <th>workingday</th>\n",
       "      <th>weathersit</th>\n",
       "      <th>temp</th>\n",
       "      <th>atemp</th>\n",
       "      <th>hum</th>\n",
       "      <th>windspeed</th>\n",
       "      <th>casual</th>\n",
       "      <th>registered</th>\n",
       "      <th>cnt</th>\n",
       "    </tr>\n",
       "  </thead>\n",
       "  <tbody>\n",
       "    <tr>\n",
       "      <th>0</th>\n",
       "      <td>1</td>\n",
       "      <td>2011-01-01</td>\n",
       "      <td>1</td>\n",
       "      <td>0</td>\n",
       "      <td>1</td>\n",
       "      <td>0</td>\n",
       "      <td>6</td>\n",
       "      <td>0</td>\n",
       "      <td>2</td>\n",
       "      <td>0.344167</td>\n",
       "      <td>0.363625</td>\n",
       "      <td>0.805833</td>\n",
       "      <td>0.160446</td>\n",
       "      <td>331</td>\n",
       "      <td>654</td>\n",
       "      <td>985</td>\n",
       "    </tr>\n",
       "    <tr>\n",
       "      <th>1</th>\n",
       "      <td>2</td>\n",
       "      <td>2011-01-02</td>\n",
       "      <td>1</td>\n",
       "      <td>0</td>\n",
       "      <td>1</td>\n",
       "      <td>0</td>\n",
       "      <td>0</td>\n",
       "      <td>0</td>\n",
       "      <td>2</td>\n",
       "      <td>0.363478</td>\n",
       "      <td>0.353739</td>\n",
       "      <td>0.696087</td>\n",
       "      <td>0.248539</td>\n",
       "      <td>131</td>\n",
       "      <td>670</td>\n",
       "      <td>801</td>\n",
       "    </tr>\n",
       "    <tr>\n",
       "      <th>2</th>\n",
       "      <td>3</td>\n",
       "      <td>2011-01-03</td>\n",
       "      <td>1</td>\n",
       "      <td>0</td>\n",
       "      <td>1</td>\n",
       "      <td>0</td>\n",
       "      <td>1</td>\n",
       "      <td>1</td>\n",
       "      <td>1</td>\n",
       "      <td>0.196364</td>\n",
       "      <td>0.189405</td>\n",
       "      <td>0.437273</td>\n",
       "      <td>0.248309</td>\n",
       "      <td>120</td>\n",
       "      <td>1229</td>\n",
       "      <td>1349</td>\n",
       "    </tr>\n",
       "    <tr>\n",
       "      <th>3</th>\n",
       "      <td>4</td>\n",
       "      <td>2011-01-04</td>\n",
       "      <td>1</td>\n",
       "      <td>0</td>\n",
       "      <td>1</td>\n",
       "      <td>0</td>\n",
       "      <td>2</td>\n",
       "      <td>1</td>\n",
       "      <td>1</td>\n",
       "      <td>0.200000</td>\n",
       "      <td>0.212122</td>\n",
       "      <td>0.590435</td>\n",
       "      <td>0.160296</td>\n",
       "      <td>108</td>\n",
       "      <td>1454</td>\n",
       "      <td>1562</td>\n",
       "    </tr>\n",
       "    <tr>\n",
       "      <th>4</th>\n",
       "      <td>5</td>\n",
       "      <td>2011-01-05</td>\n",
       "      <td>1</td>\n",
       "      <td>0</td>\n",
       "      <td>1</td>\n",
       "      <td>0</td>\n",
       "      <td>3</td>\n",
       "      <td>1</td>\n",
       "      <td>1</td>\n",
       "      <td>0.226957</td>\n",
       "      <td>0.229270</td>\n",
       "      <td>0.436957</td>\n",
       "      <td>0.186900</td>\n",
       "      <td>82</td>\n",
       "      <td>1518</td>\n",
       "      <td>1600</td>\n",
       "    </tr>\n",
       "  </tbody>\n",
       "</table>\n",
       "</div>"
      ],
      "text/plain": [
       "   instant      dteday  season  yr  mnth  holiday  weekday  workingday  \\\n",
       "0        1  2011-01-01       1   0     1        0        6           0   \n",
       "1        2  2011-01-02       1   0     1        0        0           0   \n",
       "2        3  2011-01-03       1   0     1        0        1           1   \n",
       "3        4  2011-01-04       1   0     1        0        2           1   \n",
       "4        5  2011-01-05       1   0     1        0        3           1   \n",
       "\n",
       "   weathersit      temp     atemp       hum  windspeed  casual  registered  \\\n",
       "0           2  0.344167  0.363625  0.805833   0.160446     331         654   \n",
       "1           2  0.363478  0.353739  0.696087   0.248539     131         670   \n",
       "2           1  0.196364  0.189405  0.437273   0.248309     120        1229   \n",
       "3           1  0.200000  0.212122  0.590435   0.160296     108        1454   \n",
       "4           1  0.226957  0.229270  0.436957   0.186900      82        1518   \n",
       "\n",
       "    cnt  \n",
       "0   985  \n",
       "1   801  \n",
       "2  1349  \n",
       "3  1562  \n",
       "4  1600  "
      ]
     },
     "execution_count": 3,
     "metadata": {},
     "output_type": "execute_result"
    }
   ],
   "source": [
    "bike_data.head()"
   ]
  },
  {
   "cell_type": "markdown",
   "metadata": {},
   "source": [
    "### Data Exploration"
   ]
  },
  {
   "cell_type": "code",
   "execution_count": 4,
   "metadata": {
    "scrolled": false
   },
   "outputs": [
    {
     "name": "stdout",
     "output_type": "stream",
     "text": [
      "Feature column(s):\n",
      "Index(['instant', 'dteday', 'season', 'yr', 'mnth', 'holiday', 'weekday',\n",
      "       'workingday', 'weathersit', 'temp', 'atemp', 'hum', 'windspeed'],\n",
      "      dtype='object')\n",
      "\n",
      "Target column:\n",
      "cnt\n"
     ]
    }
   ],
   "source": [
    "# Extracting\n",
    "\n",
    "feature_cols = bike_data.columns[:-3]  # all columns but last are features\n",
    "target_col = bike_data.columns[-1]  # last column is the target\n",
    "\n",
    "print (\"Feature column(s):\\n{}\\n\".format(feature_cols))\n",
    "print (\"Target column:\\n{}\".format(target_col))"
   ]
  },
  {
   "cell_type": "code",
   "execution_count": 5,
   "metadata": {},
   "outputs": [],
   "source": [
    "#### Function to Calculate Profit"
   ]
  },
  {
   "cell_type": "code",
   "execution_count": 6,
   "metadata": {},
   "outputs": [],
   "source": [
    "def profit(y,y_cap):\n",
    "    return 3 * np.minimum(y[::1], y_cap[::1]) - 2 * y_cap[::1]\n",
    "    "
   ]
  },
  {
   "cell_type": "markdown",
   "metadata": {},
   "source": [
    "#### Function to Convert from percentage to Actual Prediction"
   ]
  },
  {
   "cell_type": "code",
   "execution_count": 7,
   "metadata": {},
   "outputs": [],
   "source": [
    "def convertToPrediction(data,percentage_predictions):\n",
    "      return np.around(data + (np.multiply(data, percentage_predictions)/100))"
   ]
  },
  {
   "cell_type": "markdown",
   "metadata": {},
   "source": [
    "### Base Model"
   ]
  },
  {
   "cell_type": "markdown",
   "metadata": {},
   "source": [
    "#### For the base model the demand for today is the previous days demand. "
   ]
  },
  {
   "cell_type": "code",
   "execution_count": 8,
   "metadata": {},
   "outputs": [],
   "source": [
    "y_actual = bike_data[target_col][365:731]  # corresponding targets\n",
    "y_actual = y_actual.reset_index(drop = True)"
   ]
  },
  {
   "cell_type": "code",
   "execution_count": 9,
   "metadata": {},
   "outputs": [],
   "source": [
    "y_staged = y_actual.copy()"
   ]
  },
  {
   "cell_type": "code",
   "execution_count": 10,
   "metadata": {},
   "outputs": [],
   "source": [
    "data = []\n",
    "data.insert(0, bike_data[target_col][364])\n",
    "data.insert(0, bike_data[target_col][363])"
   ]
  },
  {
   "cell_type": "code",
   "execution_count": 11,
   "metadata": {},
   "outputs": [],
   "source": [
    "y_predicted_df = pd.concat([pd.DataFrame(data), y_staged], ignore_index=True)"
   ]
  },
  {
   "cell_type": "code",
   "execution_count": 12,
   "metadata": {},
   "outputs": [],
   "source": [
    "y_predicted_df.drop(y_predicted_df.tail(2).index,inplace=True)"
   ]
  },
  {
   "cell_type": "code",
   "execution_count": 13,
   "metadata": {},
   "outputs": [],
   "source": [
    "y_predicted = y_predicted_df[0]\n"
   ]
  },
  {
   "cell_type": "markdown",
   "metadata": {},
   "source": [
    "##### Calculate Base Model Profit"
   ]
  },
  {
   "cell_type": "code",
   "execution_count": 14,
   "metadata": {},
   "outputs": [
    {
     "name": "stdout",
     "output_type": "stream",
     "text": [
      "1442972\n"
     ]
    }
   ],
   "source": [
    "print(profit(y_actual,y_predicted).sum())"
   ]
  },
  {
   "cell_type": "markdown",
   "metadata": {},
   "source": [
    "### Algorithms and Techniques"
   ]
  },
  {
   "cell_type": "code",
   "execution_count": 15,
   "metadata": {},
   "outputs": [],
   "source": [
    "X_raw_train = pd.read_csv(\"train.csv\", header=0)\n",
    "X_raw_test  = pd.read_csv(\"test.csv\", header=0)"
   ]
  },
  {
   "cell_type": "code",
   "execution_count": 16,
   "metadata": {},
   "outputs": [],
   "source": [
    "cols = [\"temp\",\"hum\", \"windspeed\" ,\"cnt_normal\",\"week_moving_avg_normal\",\"season_1\",\"season_2\",\"season_3\",\"season_4\",\"mnth_1\",\"mnth_2\",\"mnth_3\",\"mnth_4\",\"mnth_5\",\"mnth_6\",\"mnth_7\",\"mnth_8\",\"mnth_9\",\"mnth_10\",\"mnth_11\",\"mnth_12\",\"holiday_1\",\"holiday_2\",\"weekday_1\",\"weekday_2\",\"weekday_3\",\"weekday_4\",\"weekday_5\",\"weekday_6\",\"weekday_7\",\"workingday_1\",\"workingday_2\",\"weathersit_1\",\"weathersit_2\",\"weathersit_3\"]"
   ]
  },
  {
   "cell_type": "code",
   "execution_count": 17,
   "metadata": {},
   "outputs": [],
   "source": [
    "cols = [\"atemp\",\"hum\", \"windspeed\" ,\"cnt_normal\",\"week_moving_avg_normal\",\"season_1\",\"season_2\",\"season_3\",\"season_4\",\"mnth_1\",\"mnth_2\",\"mnth_3\",\"mnth_4\",\"mnth_5\",\"mnth_6\",\"mnth_7\",\"mnth_8\",\"mnth_9\",\"mnth_10\",\"mnth_11\",\"mnth_12\",\"holiday_1\",\"holiday_2\",\"weekday_1\",\"weekday_2\",\"weekday_3\",\"weekday_4\",\"weekday_5\",\"weekday_6\",\"weekday_7\",\"workingday_1\",\"workingday_2\",\"weathersit_1\",\"weathersit_2\",\"weathersit_3\"]"
   ]
  },
  {
   "cell_type": "code",
   "execution_count": 18,
   "metadata": {},
   "outputs": [],
   "source": [
    "X_train = X_raw_train[cols].values.tolist()\n",
    "y_train_df = X_raw_train[['target']]\n",
    "y_train = y_train_df['target'].tolist()"
   ]
  },
  {
   "cell_type": "code",
   "execution_count": 19,
   "metadata": {},
   "outputs": [],
   "source": [
    "X_test = X_raw_test[cols].values.tolist()\n",
    "y_test_df = X_raw_test[['target']]\n",
    "y_test = y_test_df['target'].tolist()"
   ]
  },
  {
   "cell_type": "markdown",
   "metadata": {},
   "source": [
    "#### Alternate dataset with percentage change"
   ]
  },
  {
   "cell_type": "code",
   "execution_count": 20,
   "metadata": {},
   "outputs": [],
   "source": [
    "data = pd.read_csv(\"processed_Data.csv\", header=0)\n",
    "X_raw_train = data[0:359]\n",
    "X_raw_test  = data[359:]"
   ]
  },
  {
   "cell_type": "code",
   "execution_count": 21,
   "metadata": {},
   "outputs": [],
   "source": [
    "cols =[\"temp\",\"atemp\",\"hum\", \"windspeed\" ,\n",
    "       \"atemp__1\",\"atemp__2\",\"atemp__3\",\"atemp__4\",\"atemp__5\",\n",
    "       \"cnt__1\",\"cnt__2\",\"cnt__3\",\"cnt__4\",\"cnt__5\",\n",
    "       \"holiday__1\",\"holiday__2\",\"holiday__3\",\"holiday__4\",\"holiday__5\",\n",
    "       \"hum__1\",\"hum__2\",\"hum__3\",\"hum__4\",\"hum__5\",\n",
    "       \"season__1\",\"season__2\",\"season__3\",\"season__4\",\"season__5\",\n",
    "       \"temp__1\",\"temp__2\",\"temp__3\",\"temp__4\",\"temp__5\",\n",
    "       \"weathersit__1\",\"weathersit__2\",\"weathersit__3\",\"weathersit__4\",\"weathersit__5\",\n",
    "       \"weekday__1\",\"weekday__2\",\"weekday__3\",\"weekday__4\",\"weekday__5\",\n",
    "       \"windspeed__1\",\"windspeed__2\",\"windspeed__3\",\"windspeed__4\",\"windspeed__5\",\n",
    "       \"workingday__1\",\"workingday__2\",\"workingday__3\",\"workingday__4\",\"workingday__5\",\n",
    "       \"moving_avg_weekly_cnt\"]"
   ]
  },
  {
   "cell_type": "code",
   "execution_count": 128,
   "metadata": {},
   "outputs": [],
   "source": [
    "cols =[\"temp\",\"atemp\",\"hum\", \"windspeed\" ,\n",
    "       \"holiday__1\",\"holiday__2\",\"holiday__3\",\"holiday__4\",\"holiday__5\",\n",
    "       \"season__1\",\"season__2\",\"season__3\",\"season__4\",\"season__5\",\n",
    "       \"temp__1\",\"temp__2\",\"temp__3\",\"temp__4\",\"temp__5\",\n",
    "       \"weathersit__1\",\"weathersit__2\",\"weathersit__3\",\"weathersit__4\",\"weathersit__5\",\n",
    "       \"weekday__1\",\"weekday__2\",\"weekday__3\",\"weekday__4\",\"weekday__5\",\n",
    "       \"workingday__1\",\"workingday__2\",\"workingday__3\",\"workingday__4\",\"workingday__5\",\n",
    "       \"moving_avg_weekly_cnt\"]\n",
    "       \n",
    "       "
   ]
  },
  {
   "cell_type": "code",
   "execution_count": 34,
   "metadata": {},
   "outputs": [],
   "source": [
    "#Nandana's Variables\n",
    "#Remove same day variables like \"temp\",\"atemp\",\"hum\", \"windspeed\"\n",
    "#Also remove all variables except lag1 variables\n",
    "cols =[\n",
    "       \"atemp__1\",\n",
    "       \"cnt__1\",\n",
    "       \"holiday__1\",\n",
    "       \"hum__1\",\n",
    "       \"season__1\",\n",
    "       \"temp__1\",\n",
    "       \"weathersit__1\",\n",
    "       \"weekday__1\",\n",
    "       \"windspeed__1\",\n",
    "       \"workingday__1\",\n",
    "       \"moving_avg_weekly_cnt\"]"
   ]
  },
  {
   "cell_type": "code",
   "execution_count": 23,
   "metadata": {},
   "outputs": [],
   "source": [
    "X_train = X_raw_train[cols].values.tolist()\n",
    "y_train_df = X_raw_train[['demand_pc_inc']]\n",
    "y_train = y_train_df['demand_pc_inc'].tolist()"
   ]
  },
  {
   "cell_type": "code",
   "execution_count": 24,
   "metadata": {},
   "outputs": [],
   "source": [
    "X_test = X_raw_test[cols].values.tolist()\n",
    "y_test_df = X_raw_test[['demand_pc_inc']]\n",
    "y_test = y_test_df['demand_pc_inc'].tolist()"
   ]
  },
  {
   "cell_type": "code",
   "execution_count": 25,
   "metadata": {},
   "outputs": [],
   "source": [
    "#Nandana - changed data[['cnt']] to data['cnt'] \n",
    "data_cnt = data['cnt']"
   ]
  },
  {
   "cell_type": "code",
   "execution_count": 26,
   "metadata": {},
   "outputs": [],
   "source": [
    "actual_predictions = data_cnt[359:].values"
   ]
  },
  {
   "cell_type": "code",
   "execution_count": 27,
   "metadata": {},
   "outputs": [],
   "source": [
    "y_for_calculations = data_cnt[357:723].values"
   ]
  },
  {
   "cell_type": "markdown",
   "metadata": {},
   "source": [
    "### Benchmark"
   ]
  },
  {
   "cell_type": "code",
   "execution_count": 28,
   "metadata": {},
   "outputs": [
    {
     "data": {
      "text/plain": [
       "SVR(C=1.0, cache_size=200, coef0=0.0, degree=3, epsilon=0.1, gamma='auto',\n",
       "  kernel='rbf', max_iter=-1, shrinking=True, tol=0.001, verbose=False)"
      ]
     },
     "execution_count": 28,
     "metadata": {},
     "output_type": "execute_result"
    }
   ],
   "source": [
    "# Training SVR\n",
    "svr = SVR()\n",
    "svr.fit(X_train, y_train)"
   ]
  },
  {
   "cell_type": "code",
   "execution_count": 29,
   "metadata": {},
   "outputs": [
    {
     "name": "stdout",
     "output_type": "stream",
     "text": [
      "Score SVR: -0.003305\n",
      "RMSE SVR: 1318.397273\n"
     ]
    }
   ],
   "source": [
    "# Validation SVR\n",
    "\n",
    "svr_pred = svr.predict(X_test)\n",
    "score_svr = r2_score(y_test, svr_pred)\n",
    "rmse_svr = sqrt(mean_squared_error(y_test, svr_pred))\n",
    "\n",
    "print(\"Score SVR: %f\" % score_svr)\n",
    "print(\"RMSE SVR: %f\" % rmse_svr)"
   ]
  },
  {
   "cell_type": "code",
   "execution_count": 30,
   "metadata": {},
   "outputs": [],
   "source": [
    "model_predictions = convertToPrediction(y_for_calculations,svr_pred)"
   ]
  },
  {
   "cell_type": "code",
   "execution_count": 33,
   "metadata": {},
   "outputs": [
    {
     "name": "stdout",
     "output_type": "stream",
     "text": [
      "1438252.0\n"
     ]
    }
   ],
   "source": [
    "print(profit(actual_predictions,model_predictions).sum())"
   ]
  },
  {
   "cell_type": "markdown",
   "metadata": {},
   "source": [
    "## Methodology"
   ]
  },
  {
   "cell_type": "markdown",
   "metadata": {},
   "source": [
    "### Implementation\n",
    "\n",
    "The regressors are trained using randomized search and cross-validation to identify the area of the best parameters. Then a grid search is used to tune parameter values of the regressor functions.\n",
    "\n",
    "> http://scikit-learn.org/stable/modules/generated/sklearn.grid_search.GridSearchCV.html  \n",
    "> http://scikit-learn.org/stable/modules/generated/sklearn.grid_search.RandomizedSearchCV.html"
   ]
  },
  {
   "cell_type": "code",
   "execution_count": 35,
   "metadata": {
    "scrolled": true
   },
   "outputs": [
    {
     "name": "stdout",
     "output_type": "stream",
     "text": [
      "GridSearchCV(cv=None, error_score='raise',\n",
      "       estimator=SVR(C=1, cache_size=200, coef0=0.0, degree=3, epsilon=0.1, gamma='auto',\n",
      "  kernel='rbf', max_iter=-1, shrinking=True, tol=0.001, verbose=False),\n",
      "       fit_params={}, iid=True, n_jobs=-1,\n",
      "       param_grid=[{'C': [1000, 3000, 10000], 'kernel': ['linear', 'rbf']}],\n",
      "       pre_dispatch='2*n_jobs', refit=True, scoring='r2', verbose=0)\n",
      "\n",
      "Best parameter from grid search: {'C': 1000, 'kernel': 'rbf'}\n",
      "\n"
     ]
    }
   ],
   "source": [
    "# Tuning SVR with GridSearch\n",
    "\n",
    "tuned_parameters = [{'C': [1000, 3000, 10000], \n",
    "                     'kernel': ['linear', 'rbf']}\n",
    "                   ]\n",
    "\n",
    "#svr_tuned = GridSearchCV(SVR (C=1), param_grid = tuned_parameters, scoring = 'mean_squared_error') #default 3-fold cross-validation, score method of the estimator\n",
    "svr_tuned_GS = GridSearchCV(SVR (C=1), param_grid = tuned_parameters, scoring = 'r2', n_jobs=-1) #default 3-fold cross-validation, score method of the estimator\n",
    "\n",
    "svr_tuned_GS.fit(X_train, y_train)\n",
    "\n",
    "print (svr_tuned_GS)\n",
    "print ('\\n' \"Best parameter from grid search: \" + str(svr_tuned_GS.best_params_) +'\\n')"
   ]
  },
  {
   "cell_type": "code",
   "execution_count": 36,
   "metadata": {},
   "outputs": [
    {
     "name": "stdout",
     "output_type": "stream",
     "text": [
      "SVR Results\n",
      "\n",
      "Score SVR tuned GS: -0.002542\n",
      "RMSE SVR tuned GS: 1317.895455\n"
     ]
    }
   ],
   "source": [
    "# Validation - SVR tuned \n",
    "\n",
    "svr_tuned_pred_GS = svr_tuned_GS.predict(X_test)\n",
    "\n",
    "score_svr_tuned_GS = r2_score(y_test, svr_tuned_pred_GS)\n",
    "rmse_svr_tuned_GS = sqrt(mean_squared_error(y_test, svr_tuned_pred_GS))\n",
    "\n",
    "print(\"SVR Results\\n\")\n",
    "\n",
    "#print(\"Score SVR: %f\" % score_svr)\n",
    "print(\"Score SVR tuned GS: %f\" % score_svr_tuned_GS)\n",
    "\n",
    "#print(\"\\nRMSE SVR: %f\" % rmse_svr)\n",
    "print(\"RMSE SVR tuned GS: %f\" % rmse_svr_tuned_GS)"
   ]
  },
  {
   "cell_type": "code",
   "execution_count": 37,
   "metadata": {},
   "outputs": [
    {
     "name": "stdout",
     "output_type": "stream",
     "text": [
      "1269631.0\n"
     ]
    }
   ],
   "source": [
    "svr_tuned_pred_GS\n",
    "\n",
    "#Change - Nandana\n",
    "##Profit Calculation for pct approach\n",
    "model_predictions = convertToPrediction(y_for_calculations,svr_tuned_pred_GS)\n",
    "print(profit(actual_predictions,model_predictions).sum())\n",
    "\n",
    "#Profit is just 1.26million!!"
   ]
  },
  {
   "cell_type": "code",
   "execution_count": 58,
   "metadata": {},
   "outputs": [
    {
     "name": "stdout",
     "output_type": "stream",
     "text": [
      "1348989.3817235236\n"
     ]
    }
   ],
   "source": [
    "print(profit(y_test,svr_tuned_pred_GS).sum())"
   ]
  },
  {
   "cell_type": "code",
   "execution_count": 65,
   "metadata": {},
   "outputs": [
    {
     "name": "stdout",
     "output_type": "stream",
     "text": [
      "best CV score from grid search: -0.837227\n",
      "corresponding parameters: {'C': 5806.563127646195, 'kernel': 'rbf'}\n"
     ]
    }
   ],
   "source": [
    "# SVR tuned with RandomizesSearch\n",
    "# may take a while!\n",
    "\n",
    "# Parameters\n",
    "param_dist = {  'C': sp_uniform (1000, 10000), \n",
    "                'kernel': ['rbf']\n",
    "             }\n",
    "\n",
    "n_iter_search = 1\n",
    "\n",
    "# MSE optimized\n",
    "#SVR_tuned_RS = RandomizedSearchCV(SVR (C=1), param_distributions = param_dist, scoring = 'mean_squared_error', n_iter=n_iter_search)\n",
    "\n",
    "# R^2 optimized\n",
    "SVR_tuned_RS = RandomizedSearchCV(SVR (C=1), param_distributions = param_dist, scoring = 'r2', n_iter=n_iter_search)\n",
    "\n",
    "# Fit\n",
    "SVR_tuned_RS.fit(X_train, y_train)\n",
    "\n",
    "# Best score and corresponding parameters.\n",
    "print('best CV score from grid search: {0:f}'.format(SVR_tuned_RS.best_score_))\n",
    "print('corresponding parameters: {}'.format(SVR_tuned_RS.best_params_))\n",
    "\n",
    "# Predict and score\n",
    "predict = SVR_tuned_RS.predict(X_test)\n",
    "\n",
    "score_svr_tuned_RS = r2_score(y_test, predict)\n",
    "rmse_svr_tuned_RS = sqrt(mean_squared_error(y_test, predict))"
   ]
  },
  {
   "cell_type": "code",
   "execution_count": 66,
   "metadata": {},
   "outputs": [
    {
     "name": "stdout",
     "output_type": "stream",
     "text": [
      "SVR Results\n",
      "\n",
      "Score SVR: -1.057082\n",
      "Score SVR tuned GS: -0.298199\n",
      "Score SVR tuned RS: -0.220097\n",
      "\n",
      "RMSE SVR: 2561.895499\n",
      "RMSE SVR tuned GS: 2035.196203\n",
      "RMSE SVR tuned RS: 1973.025704\n"
     ]
    }
   ],
   "source": [
    "print('SVR Results\\n')\n",
    "\n",
    "print(\"Score SVR: %f\" % score_svr)\n",
    "print(\"Score SVR tuned GS: %f\" % score_svr_tuned_GS)\n",
    "print(\"Score SVR tuned RS: %f\" % score_svr_tuned_RS)\n",
    "\n",
    "print(\"\\nRMSE SVR: %f\" % rmse_svr)\n",
    "print(\"RMSE SVR tuned GS: %f\" % rmse_svr_tuned_GS)\n",
    "print(\"RMSE SVR tuned RS: %f\" % rmse_svr_tuned_RS)"
   ]
  },
  {
   "cell_type": "markdown",
   "metadata": {},
   "source": [
    "The tuning works for the SVR."
   ]
  },
  {
   "cell_type": "code",
   "execution_count": 67,
   "metadata": {},
   "outputs": [
    {
     "name": "stdout",
     "output_type": "stream",
     "text": [
      "1366504.424865197\n"
     ]
    }
   ],
   "source": [
    "print(profit(y_test,predict).sum())"
   ]
  },
  {
   "cell_type": "markdown",
   "metadata": {},
   "source": [
    "### DNN Regressor"
   ]
  },
  {
   "cell_type": "code",
   "execution_count": 58,
   "metadata": {},
   "outputs": [],
   "source": [
    "from sklearn.neural_network import MLPRegressor"
   ]
  },
  {
   "cell_type": "code",
   "execution_count": 59,
   "metadata": {},
   "outputs": [],
   "source": [
    "import logging\n",
    "from concurrent.futures import ThreadPoolExecutor, wait\n",
    "from time import time\n",
    "from typing import List"
   ]
  },
  {
   "cell_type": "code",
   "execution_count": 60,
   "metadata": {},
   "outputs": [],
   "source": [
    "bike_model = MLPRegressor(hidden_layer_sizes=(10,20),\n",
    "                                       activation='relu',\n",
    "                                       solver='adam',\n",
    "                                       learning_rate='adaptive',\n",
    "                                       max_iter=10000,\n",
    "                                       learning_rate_init=0.01,\n",
    "                                       alpha=0.01)"
   ]
  },
  {
   "cell_type": "code",
   "execution_count": 61,
   "metadata": {},
   "outputs": [],
   "source": [
    "start_time = int(time() * 1000)\n",
    "bike_model.fit(X_train, y_train)\n",
    "end_time = int(time() * 1000)\n",
    "logging.debug('Finished training universal model')\n",
    "logging.debug('Training took {} ms'.format(end_time - start_time)) "
   ]
  },
  {
   "cell_type": "code",
   "execution_count": 62,
   "metadata": {},
   "outputs": [],
   "source": [
    "predict = bike_model.predict(X_test)"
   ]
  },
  {
   "cell_type": "code",
   "execution_count": 63,
   "metadata": {},
   "outputs": [
    {
     "data": {
      "text/plain": [
       "array([19.925289  , 22.00379558, 23.60938533, 23.22590156, 23.66675084,\n",
       "       22.31659909, 23.75618579, 27.17276292, 31.90670065, 33.68316357,\n",
       "       33.95392255, 35.19934529, 31.45097422, 30.59433766, 30.13415323,\n",
       "       30.19660644, 27.16725898, 27.66936709, 26.14922341, 26.31709331,\n",
       "       27.87693451, 29.32337225, 27.16925896, 24.7749419 , 23.3316477 ,\n",
       "       26.07770522, 28.1026324 , 33.41624504, 36.07090639, 38.9842279 ,\n",
       "       36.41829123, 35.50879304, 36.95006685, 38.93333522, 38.38345738,\n",
       "       39.98427919, 38.35590939, 34.78239058, 33.67852122, 35.5024423 ,\n",
       "       32.76172496, 34.61109878, 36.20540654, 32.83124582, 26.87785469,\n",
       "       28.52593341, 29.30330569, 29.79384779, 31.32446197, 36.2594723 ,\n",
       "       37.93538385, 34.93187274, 33.19646797, 35.52526001, 36.60442614,\n",
       "       37.99753948, 39.28210918, 38.25839189, 37.11455999, 36.55559288,\n",
       "       35.83843007, 32.43721168, 36.77307369, 36.33811625, 35.62399074,\n",
       "       33.3871925 , 36.63942894, 35.24376458, 38.44643101, 40.93950879,\n",
       "       42.96373887, 44.27405792, 45.70921512, 46.79215083, 48.3283498 ,\n",
       "       51.50262758, 55.51170029, 54.32149857, 59.02702298, 58.65349863,\n",
       "       58.75778116, 59.2788461 , 62.59264527, 60.54674564, 65.17649811,\n",
       "       59.62811016, 57.08242333, 56.07981974, 53.40861037, 48.09290807,\n",
       "       53.34690389, 54.03021117, 55.09598334, 56.49159567, 57.33885228,\n",
       "       59.31651276, 61.0418637 , 61.41118933, 62.0209141 , 63.60848976,\n",
       "       60.0020255 , 58.67803381, 58.25307198, 55.05906578, 52.24228728,\n",
       "       54.47400335, 57.90311227, 59.73992468, 62.94735078, 66.24356195,\n",
       "       62.1702553 , 60.35230427, 60.59254674, 60.86415603, 49.33583303,\n",
       "       47.33366918, 46.31994966, 44.17102339, 41.08358991, 50.87622028,\n",
       "       52.64339813, 53.3952695 , 52.62020604, 54.50523789, 54.3499657 ,\n",
       "       58.60575372, 58.44803954, 60.83650155, 61.3877865 , 62.0091301 ,\n",
       "       61.2873699 , 58.20082136, 57.60275158, 58.79806362, 60.78834848,\n",
       "       60.98480652, 57.58018774, 55.35906576, 56.09031977, 56.08947273,\n",
       "       58.89908869, 69.22074072, 72.55253217, 66.91547832, 64.9492414 ,\n",
       "       60.2898845 , 57.39517154, 56.59850844, 60.56527387, 61.00223397,\n",
       "       62.74806304, 61.57108817, 61.66063991, 63.15382976, 58.28110451,\n",
       "       62.04962112, 65.34228535, 65.87499112, 65.84751668, 71.32006107,\n",
       "       70.1879104 , 70.21707691, 71.00368596, 69.63393379, 69.18646741,\n",
       "       64.89400506, 64.26831952, 64.09218766, 66.04513338, 67.80236225,\n",
       "       71.09863503, 66.91064206, 66.4794189 , 63.64229272, 60.0498059 ,\n",
       "       57.59598646, 61.87785229, 61.58503056, 62.99271005, 66.59898092,\n",
       "       69.40746883, 68.27706357, 65.36401477, 63.05142359, 58.84816633,\n",
       "       57.02233095, 57.23584977, 60.82571446, 62.06789464, 63.24563415,\n",
       "       60.31031276, 55.90406495, 54.56492956, 55.26469564, 57.29722026,\n",
       "       62.41131588, 67.71726389, 68.21973954, 67.22229699, 66.800174  ,\n",
       "       66.16441065, 62.52151897, 61.72703757, 61.26317504, 56.41509503,\n",
       "       57.15528204, 60.10289784, 62.73310392, 67.0476237 , 71.58041132,\n",
       "       70.40114705, 69.66983169, 67.22441956, 65.49300008, 66.8106056 ,\n",
       "       67.99591492, 69.09263161, 70.05229681, 69.31789465, 65.49830172,\n",
       "       64.70318289, 65.33719394, 65.90576103, 66.87173289, 67.4538627 ,\n",
       "       65.77945438, 63.88112785, 62.97697189, 62.65210282, 65.51819773,\n",
       "       67.95852914, 69.00090806, 70.70900045, 65.84623505, 64.56129034,\n",
       "       64.11380108, 64.52779556, 64.31774114, 69.97466577, 68.7635286 ,\n",
       "       64.91860223, 64.44698399, 63.78021465, 63.81154957, 66.97469723,\n",
       "       70.8319786 , 69.11042692, 66.1613925 , 63.30731974, 62.56533841,\n",
       "       62.01708348, 61.97323075, 65.02544295, 64.76031186, 66.88410239,\n",
       "       68.1333088 , 71.71002117, 72.32826077, 75.77973808, 75.23501771,\n",
       "       77.32802141, 75.95898291, 74.35256401, 67.7234982 , 66.87281271,\n",
       "       65.01091397, 66.52823061, 69.25888998, 75.99886472, 75.92835901,\n",
       "       76.17739729, 75.30044582, 73.28862398, 72.16486746, 74.22337867,\n",
       "       72.54267584, 71.01505609, 66.19590966, 66.35120265, 64.09809127,\n",
       "       66.51370894, 68.70166896, 65.84835007, 61.99726399, 61.00010807,\n",
       "       60.0533177 , 59.31853814, 66.36334458, 69.24615059, 69.18501706,\n",
       "       65.95855043, 66.47636487, 66.80372439, 67.56616527, 65.06402202,\n",
       "       69.17026271, 67.35811525, 66.93120831, 67.42635658, 71.62759316,\n",
       "       70.17006304, 71.19165803, 72.59474143, 66.33900998, 51.86032738,\n",
       "       40.34460988, 36.69995   , 33.05446326, 35.66730659, 45.32086128,\n",
       "       52.51369208, 52.29885803, 52.26698368, 50.58205703, 50.82932176,\n",
       "       52.49360682, 54.74497745, 56.52468356, 59.14406705, 57.55397034,\n",
       "       56.48643664, 54.37801841, 51.94170086, 50.58359316, 51.10565026,\n",
       "       51.4497467 , 52.33607679, 51.22571802, 45.04742998, 43.64883459,\n",
       "       37.18075292, 30.29356639, 30.48869495, 34.0396599 , 36.51659646,\n",
       "       42.49244715, 48.63048973, 48.63556982, 49.34241092, 51.64437694,\n",
       "       54.86399773, 54.85617602, 55.15113022, 55.63630988, 54.14123268,\n",
       "       47.15257367, 46.44161778, 47.38595492, 47.88927062, 47.80870647,\n",
       "       52.32168035, 51.8323346 , 47.91559169, 46.72296706, 47.48151022,\n",
       "       46.77321695, 44.98616535, 44.71945675, 39.32843859, 31.67989879,\n",
       "       23.35357154, 17.91625661, 11.78632199, 12.52369922, 15.00856307,\n",
       "       15.60934781])"
      ]
     },
     "execution_count": 63,
     "metadata": {},
     "output_type": "execute_result"
    }
   ],
   "source": [
    "predict"
   ]
  },
  {
   "cell_type": "code",
   "execution_count": 120,
   "metadata": {},
   "outputs": [
    {
     "name": "stdout",
     "output_type": "stream",
     "text": [
      "1331736.7111305392\n"
     ]
    }
   ],
   "source": [
    "print(profit(y_test,predict).sum())"
   ]
  },
  {
   "cell_type": "markdown",
   "metadata": {},
   "source": [
    "### GLM"
   ]
  },
  {
   "cell_type": "code",
   "execution_count": 3,
   "metadata": {},
   "outputs": [],
   "source": [
    "%matplotlib inline\n",
    "\n",
    "from __future__ import print_function\n",
    "import numpy as np\n",
    "import statsmodels.api as sm\n",
    "from scipy import stats\n",
    "from matplotlib import pyplot as plt"
   ]
  },
  {
   "cell_type": "markdown",
   "metadata": {},
   "source": [
    "#### Percentage change over the previous day"
   ]
  },
  {
   "cell_type": "code",
   "execution_count": 4,
   "metadata": {},
   "outputs": [],
   "source": [
    "X_new_train = pd.read_csv(\"processed_Data.csv\", header=0)"
   ]
  },
  {
   "cell_type": "code",
   "execution_count": 6,
   "metadata": {},
   "outputs": [
    {
     "data": {
      "text/plain": [
       "(725, 73)"
      ]
     },
     "execution_count": 6,
     "metadata": {},
     "output_type": "execute_result"
    }
   ],
   "source": [
    "X_new_train.shape"
   ]
  },
  {
   "cell_type": "code",
   "execution_count": 8,
   "metadata": {},
   "outputs": [
    {
     "data": {
      "text/html": [
       "<div>\n",
       "<style scoped>\n",
       "    .dataframe tbody tr th:only-of-type {\n",
       "        vertical-align: middle;\n",
       "    }\n",
       "\n",
       "    .dataframe tbody tr th {\n",
       "        vertical-align: top;\n",
       "    }\n",
       "\n",
       "    .dataframe thead th {\n",
       "        text-align: right;\n",
       "    }\n",
       "</style>\n",
       "<table border=\"1\" class=\"dataframe\">\n",
       "  <thead>\n",
       "    <tr style=\"text-align: right;\">\n",
       "      <th></th>\n",
       "      <th>instant</th>\n",
       "      <th>dteday</th>\n",
       "      <th>season</th>\n",
       "      <th>yr</th>\n",
       "      <th>mnth</th>\n",
       "      <th>holiday</th>\n",
       "      <th>weekday</th>\n",
       "      <th>workingday</th>\n",
       "      <th>weathersit</th>\n",
       "      <th>temp</th>\n",
       "      <th>...</th>\n",
       "      <th>windspeed__3</th>\n",
       "      <th>windspeed__4</th>\n",
       "      <th>windspeed__5</th>\n",
       "      <th>workingday__1</th>\n",
       "      <th>workingday__2</th>\n",
       "      <th>workingday__3</th>\n",
       "      <th>workingday__4</th>\n",
       "      <th>workingday__5</th>\n",
       "      <th>moving_avg_weekly_cnt</th>\n",
       "      <th>demand_pc_inc</th>\n",
       "    </tr>\n",
       "  </thead>\n",
       "  <tbody>\n",
       "    <tr>\n",
       "      <th>0</th>\n",
       "      <td>7</td>\n",
       "      <td>2011-01-07</td>\n",
       "      <td>1</td>\n",
       "      <td>0</td>\n",
       "      <td>1</td>\n",
       "      <td>0</td>\n",
       "      <td>5</td>\n",
       "      <td>1</td>\n",
       "      <td>2</td>\n",
       "      <td>0.196522</td>\n",
       "      <td>...</td>\n",
       "      <td>0.248309</td>\n",
       "      <td>0.248539</td>\n",
       "      <td>0.160446</td>\n",
       "      <td>1</td>\n",
       "      <td>1</td>\n",
       "      <td>1</td>\n",
       "      <td>0</td>\n",
       "      <td>0</td>\n",
       "      <td>1259</td>\n",
       "      <td>-5.625</td>\n",
       "    </tr>\n",
       "  </tbody>\n",
       "</table>\n",
       "<p>1 rows × 73 columns</p>\n",
       "</div>"
      ],
      "text/plain": [
       "   instant      dteday  season  yr  mnth  holiday  weekday  workingday  \\\n",
       "0        7  2011-01-07       1   0     1        0        5           1   \n",
       "\n",
       "   weathersit      temp      ...        windspeed__3  windspeed__4  \\\n",
       "0           2  0.196522      ...            0.248309      0.248539   \n",
       "\n",
       "   windspeed__5  workingday__1  workingday__2  workingday__3  workingday__4  \\\n",
       "0      0.160446              1              1              1              0   \n",
       "\n",
       "   workingday__5  moving_avg_weekly_cnt  demand_pc_inc  \n",
       "0              0                   1259         -5.625  \n",
       "\n",
       "[1 rows x 73 columns]"
      ]
     },
     "execution_count": 8,
     "metadata": {},
     "output_type": "execute_result"
    }
   ],
   "source": [
    "X_new_train.head(1)"
   ]
  },
  {
   "cell_type": "code",
   "execution_count": null,
   "metadata": {},
   "outputs": [],
   "source": []
  }
 ],
 "metadata": {
  "kernelspec": {
   "display_name": "Python 3",
   "language": "python",
   "name": "python3"
  },
  "language_info": {
   "codemirror_mode": {
    "name": "ipython",
    "version": 3
   },
   "file_extension": ".py",
   "mimetype": "text/x-python",
   "name": "python",
   "nbconvert_exporter": "python",
   "pygments_lexer": "ipython3",
   "version": "3.6.4"
  }
 },
 "nbformat": 4,
 "nbformat_minor": 1
}
