{
 "cells": [
  {
   "cell_type": "markdown",
   "metadata": {},
   "source": [
    "## Definition"
   ]
  },
  {
   "cell_type": "markdown",
   "metadata": {},
   "source": [
    "### Problem Statement  \n",
    "\n",
    "The goal is to forecast the demand for bikes in dependency of weather conditions like outside temperature and calendric informations e.g. holidays. These information and the demand structure is provided in a set with two years of daily historic data.  \n",
    "The demand is given as the total daily demand and as a split for registered users and casual users. To increase the quality of the prediction registered user demand and casual user demand will be predicted separately in step two.  \n",
    "To make predictions machine learning is used to train regressors. Scikit-Learn recommends a support vector regressor (SVR) for this kind of problem and data amount. In addition a deep neuronal network (DNN) regressor is trained for comparison. To find the hyper-parameters for these regressors grid search and randomized search are utilized. Due to the small dataset cross validation is applied.    \n",
    "\n",
    "> http://scikit-learn.org/stable/tutorial/machine_learning_map/index.html  \n",
    "> http://scikit-learn.org/stable/modules/generated/sklearn.svm.SVR.html#sklearn.svm.SVR  \n",
    "> https://github.com/tensorflow/skflow/blob/master/g3doc/api_docs/python/estimators.md  \n",
    "> http://scikit-learn.org/stable/modules/generated/sklearn.grid_search.GridSearchCV.html  \n",
    "> http://scikit-learn.org/stable/modules/generated/sklearn.grid_search.RandomizedSearchCV.html"
   ]
  },
  {
   "cell_type": "code",
   "execution_count": 1,
   "metadata": {},
   "outputs": [
    {
     "name": "stderr",
     "output_type": "stream",
     "text": [
      "/Library/Frameworks/Python.framework/Versions/3.6/lib/python3.6/site-packages/sklearn/cross_validation.py:41: DeprecationWarning: This module was deprecated in version 0.18 in favor of the model_selection module into which all the refactored classes and functions are moved. Also note that the interface of the new CV iterators are different from that of this module. This module will be removed in 0.20.\n",
      "  \"This module will be removed in 0.20.\", DeprecationWarning)\n",
      "/Library/Frameworks/Python.framework/Versions/3.6/lib/python3.6/site-packages/sklearn/grid_search.py:42: DeprecationWarning: This module was deprecated in version 0.18 in favor of the model_selection module into which all the refactored classes and functions are moved. This module will be removed in 0.20.\n",
      "  DeprecationWarning)\n"
     ]
    }
   ],
   "source": [
    "# Import libraries\n",
    "\n",
    "import numpy as np\n",
    "import pandas as pd\n",
    "import matplotlib.pyplot as plt\n",
    "import calendar\n",
    "\n",
    "from sklearn.svm import SVR\n",
    "from sklearn.cross_validation import train_test_split\n",
    "from sklearn.grid_search import GridSearchCV, RandomizedSearchCV\n",
    "from sklearn.metrics import r2_score, mean_squared_error\n",
    "from scipy.stats import randint as sp_randint\n",
    "from scipy.stats import uniform as sp_uniform\n",
    "from math import sqrt"
   ]
  },
  {
   "cell_type": "markdown",
   "metadata": {},
   "source": [
    "## Analysis"
   ]
  },
  {
   "cell_type": "code",
   "execution_count": null,
   "metadata": {},
   "outputs": [],
   "source": [
    "# Fetching Dataset\n",
    "\n",
    "bike_data = pd.read_csv(\"day.csv\", header=0)\n",
    "\n",
    "print(\"Data read successfully!\")"
   ]
  },
  {
   "cell_type": "code",
   "execution_count": null,
   "metadata": {},
   "outputs": [],
   "source": [
    "bike_data.head()"
   ]
  },
  {
   "cell_type": "markdown",
   "metadata": {},
   "source": [
    "### Data Exploration"
   ]
  },
  {
   "cell_type": "code",
   "execution_count": null,
   "metadata": {
    "scrolled": false
   },
   "outputs": [],
   "source": [
    "# Extracting\n",
    "\n",
    "feature_cols = bike_data.columns[:-3]  # all columns but last are features\n",
    "target_col = bike_data.columns[-1]  # last column is the target\n",
    "\n",
    "print (\"Feature column(s):\\n{}\\n\".format(feature_cols))\n",
    "print (\"Target column:\\n{}\".format(target_col))"
   ]
  },
  {
   "cell_type": "code",
   "execution_count": null,
   "metadata": {},
   "outputs": [],
   "source": [
    "#### Function to Calculate Profit"
   ]
  },
  {
   "cell_type": "code",
   "execution_count": 2,
   "metadata": {},
   "outputs": [],
   "source": [
    "def profit(y,y_cap):\n",
    "    return 3 * np.minimum(y[::1], y_cap[::1]) - 2 * y_cap[::1]\n",
    "    "
   ]
  },
  {
   "cell_type": "markdown",
   "metadata": {},
   "source": [
    "#### Function to Convert from percentage to Actual Prediction"
   ]
  },
  {
   "cell_type": "code",
   "execution_count": 3,
   "metadata": {},
   "outputs": [],
   "source": [
    "def convertToPrediction(data,percentage_predictions):\n",
    "      return np.around(data + (np.multiply(data, percentage_predictions)/100))"
   ]
  },
  {
   "cell_type": "markdown",
   "metadata": {},
   "source": [
    "### Base Model"
   ]
  },
  {
   "cell_type": "markdown",
   "metadata": {},
   "source": [
    "#### For the base model the demand for today is the previous days demand. "
   ]
  },
  {
   "cell_type": "code",
   "execution_count": null,
   "metadata": {},
   "outputs": [],
   "source": [
    "y_actual = bike_data[target_col][365:731]  # corresponding targets\n",
    "y_actual = y_actual.reset_index(drop = True)"
   ]
  },
  {
   "cell_type": "code",
   "execution_count": null,
   "metadata": {},
   "outputs": [],
   "source": [
    "y_staged = y_actual.copy()"
   ]
  },
  {
   "cell_type": "code",
   "execution_count": null,
   "metadata": {},
   "outputs": [],
   "source": [
    "data = []\n",
    "data.insert(0, bike_data[target_col][364])\n",
    "data.insert(0, bike_data[target_col][363])"
   ]
  },
  {
   "cell_type": "code",
   "execution_count": null,
   "metadata": {},
   "outputs": [],
   "source": [
    "y_predicted_df = pd.concat([pd.DataFrame(data), y_staged], ignore_index=True)"
   ]
  },
  {
   "cell_type": "code",
   "execution_count": null,
   "metadata": {},
   "outputs": [],
   "source": [
    "y_predicted_df.drop(y_predicted_df.tail(2).index,inplace=True)"
   ]
  },
  {
   "cell_type": "code",
   "execution_count": null,
   "metadata": {},
   "outputs": [],
   "source": [
    "y_predicted = y_predicted_df[0]\n"
   ]
  },
  {
   "cell_type": "markdown",
   "metadata": {},
   "source": [
    "##### Calculate Base Model Profit"
   ]
  },
  {
   "cell_type": "code",
   "execution_count": null,
   "metadata": {},
   "outputs": [],
   "source": [
    "print(profit(y_actual,y_predicted).sum())"
   ]
  },
  {
   "cell_type": "markdown",
   "metadata": {},
   "source": [
    "### Algorithms and Techniques"
   ]
  },
  {
   "cell_type": "code",
   "execution_count": null,
   "metadata": {},
   "outputs": [],
   "source": [
    "X_raw_train = pd.read_csv(\"train.csv\", header=0)\n",
    "X_raw_test  = pd.read_csv(\"test.csv\", header=0)"
   ]
  },
  {
   "cell_type": "code",
   "execution_count": null,
   "metadata": {},
   "outputs": [],
   "source": [
    "cols = [\"temp\",\"hum\", \"windspeed\" ,\"cnt_normal\",\"week_moving_avg_normal\",\"season_1\",\"season_2\",\"season_3\",\"season_4\",\"mnth_1\",\"mnth_2\",\"mnth_3\",\"mnth_4\",\"mnth_5\",\"mnth_6\",\"mnth_7\",\"mnth_8\",\"mnth_9\",\"mnth_10\",\"mnth_11\",\"mnth_12\",\"holiday_1\",\"holiday_2\",\"weekday_1\",\"weekday_2\",\"weekday_3\",\"weekday_4\",\"weekday_5\",\"weekday_6\",\"weekday_7\",\"workingday_1\",\"workingday_2\",\"weathersit_1\",\"weathersit_2\",\"weathersit_3\"]"
   ]
  },
  {
   "cell_type": "code",
   "execution_count": null,
   "metadata": {},
   "outputs": [],
   "source": [
    "cols = [\"atemp\",\"hum\", \"windspeed\" ,\"cnt_normal\",\"week_moving_avg_normal\",\"season_1\",\"season_2\",\"season_3\",\"season_4\",\"mnth_1\",\"mnth_2\",\"mnth_3\",\"mnth_4\",\"mnth_5\",\"mnth_6\",\"mnth_7\",\"mnth_8\",\"mnth_9\",\"mnth_10\",\"mnth_11\",\"mnth_12\",\"holiday_1\",\"holiday_2\",\"weekday_1\",\"weekday_2\",\"weekday_3\",\"weekday_4\",\"weekday_5\",\"weekday_6\",\"weekday_7\",\"workingday_1\",\"workingday_2\",\"weathersit_1\",\"weathersit_2\",\"weathersit_3\"]"
   ]
  },
  {
   "cell_type": "code",
   "execution_count": null,
   "metadata": {},
   "outputs": [],
   "source": [
    "X_train = X_raw_train[cols].values.tolist()\n",
    "y_train_df = X_raw_train[['target']]\n",
    "y_train = y_train_df['target'].tolist()"
   ]
  },
  {
   "cell_type": "code",
   "execution_count": null,
   "metadata": {},
   "outputs": [],
   "source": [
    "X_test = X_raw_test[cols].values.tolist()\n",
    "y_test_df = X_raw_test[['target']]\n",
    "y_test = y_test_df['target'].tolist()"
   ]
  },
  {
   "cell_type": "markdown",
   "metadata": {},
   "source": [
    "#### Alternate dataset with percentage change"
   ]
  },
  {
   "cell_type": "code",
   "execution_count": 95,
   "metadata": {},
   "outputs": [],
   "source": [
    "data = pd.read_csv(\"processed_Data.csv\", header=0)\n",
    "data['instant'] = data['instant'] % 30\n",
    "X_raw_train = data[0:359]\n",
    "X_raw_test  = data[359:]"
   ]
  },
  {
   "cell_type": "code",
   "execution_count": 96,
   "metadata": {},
   "outputs": [],
   "source": [
    "cols =[\n",
    "       \"season__1\",\"season__2\",\"season__3\",\"season__4\",\"season__5\",\n",
    "       \"weathersit__1\",\"weathersit__2\",\"weathersit__3\",\"weathersit__4\",\"weathersit__5\",\n",
    "        \"atemp\",\"hum\",\"windspeed\",\n",
    "        \"mnth\",\"instant\",\"holiday\",\"weekday\",\"workingday\",\n",
    "        \"moving_avg_weekly_cnt\"]     "
   ]
  },
  {
   "cell_type": "code",
   "execution_count": 97,
   "metadata": {},
   "outputs": [],
   "source": [
    "X_train = X_raw_train[cols].values.tolist()\n",
    "y_train_df = X_raw_train[['demand_pc_inc']]\n",
    "y_train = y_train_df['demand_pc_inc'].tolist()"
   ]
  },
  {
   "cell_type": "code",
   "execution_count": 98,
   "metadata": {},
   "outputs": [],
   "source": [
    "X_test = X_raw_test[cols].values.tolist()\n",
    "y_test_df = X_raw_test[['demand_pc_inc']]\n",
    "y_test = y_test_df['demand_pc_inc'].tolist()"
   ]
  },
  {
   "cell_type": "code",
   "execution_count": 99,
   "metadata": {},
   "outputs": [],
   "source": [
    "data_cnt = data['cnt']"
   ]
  },
  {
   "cell_type": "code",
   "execution_count": 100,
   "metadata": {},
   "outputs": [],
   "source": [
    "actual_predictions = data_cnt[359:].values"
   ]
  },
  {
   "cell_type": "code",
   "execution_count": 101,
   "metadata": {},
   "outputs": [],
   "source": [
    "y_for_calculations = data_cnt[357:723].values"
   ]
  },
  {
   "cell_type": "markdown",
   "metadata": {},
   "source": [
    "### Benchmark"
   ]
  },
  {
   "cell_type": "code",
   "execution_count": 102,
   "metadata": {},
   "outputs": [
    {
     "data": {
      "text/plain": [
       "SVR(C=1.0, cache_size=200, coef0=0.0, degree=3, epsilon=0.1, gamma='auto',\n",
       "  kernel='rbf', max_iter=-1, shrinking=True, tol=0.001, verbose=False)"
      ]
     },
     "execution_count": 102,
     "metadata": {},
     "output_type": "execute_result"
    }
   ],
   "source": [
    "# Training SVR\n",
    "svr = SVR()\n",
    "svr.fit(X_train, y_train)"
   ]
  },
  {
   "cell_type": "code",
   "execution_count": 103,
   "metadata": {},
   "outputs": [
    {
     "name": "stdout",
     "output_type": "stream",
     "text": [
      "Score SVR: -0.003308\n",
      "RMSE SVR: 1318.398984\n"
     ]
    }
   ],
   "source": [
    "# Validation SVR\n",
    "\n",
    "svr_pred = svr.predict(X_test)\n",
    "score_svr = r2_score(y_test, svr_pred)\n",
    "rmse_svr = sqrt(mean_squared_error(y_test, svr_pred))\n",
    "\n",
    "print(\"Score SVR: %f\" % score_svr)\n",
    "print(\"RMSE SVR: %f\" % rmse_svr)"
   ]
  },
  {
   "cell_type": "code",
   "execution_count": 104,
   "metadata": {
    "collapsed": true
   },
   "outputs": [
    {
     "data": {
      "text/plain": [
       "array([0.394235  , 0.38637924, 0.31425885, 0.38640337, 0.38592272,\n",
       "       0.38599109, 0.38592236, 0.53607766, 0.38592552, 0.38592202,\n",
       "       0.38592201, 0.38723512, 0.38591896, 0.38592202, 0.38533663,\n",
       "       0.38592202, 0.68234301, 0.38709951, 0.38592164, 0.38591182,\n",
       "       0.38592205, 0.38581424, 0.38592224, 0.38467478, 0.38592309,\n",
       "       0.35655385, 0.38584931, 0.38592202, 0.38602622, 0.46145605,\n",
       "       0.38592202, 0.38591842, 0.38592205, 0.38364073, 0.38592207,\n",
       "       0.38594366, 0.38583179, 0.38605335, 0.39788321, 0.38592852,\n",
       "       0.38592202, 0.38538828, 0.38646848, 0.38605953, 0.38592201,\n",
       "       0.38592262, 0.38593414, 0.38592201, 0.38592201, 0.38505089,\n",
       "       0.38595021, 0.38035131, 0.38601654, 0.46149189, 0.38592202,\n",
       "       0.38592202, 0.38584661, 0.38572556, 0.38592202, 0.38604506,\n",
       "       0.43560603, 0.38592202, 0.38593152, 0.38593926, 0.38592198,\n",
       "       0.39189013, 0.3859355 , 0.38592202, 0.38592318, 0.38631169,\n",
       "       0.38919515, 0.76828721, 0.29207917, 0.38703043, 0.3859207 ,\n",
       "       0.38592202, 0.38592202, 0.38592202, 0.38592202, 0.38592202,\n",
       "       0.38592202, 0.38592202, 0.38592202, 0.38592202, 0.38592202,\n",
       "       0.38592202, 0.38592202, 0.38592202, 0.38592202, 0.4023085 ,\n",
       "       0.38592202, 0.38592202, 0.38592202, 0.38592202, 0.38592202,\n",
       "       0.38592202, 0.38592202, 0.38592202, 0.38592202, 0.38592202,\n",
       "       0.38592202, 0.38592202, 0.38592202, 0.38592202, 0.38592202,\n",
       "       0.38592202, 0.38592202, 0.38592202, 0.38592202, 0.38592202,\n",
       "       0.38592202, 0.38592202, 0.38592202, 0.38592202, 0.424211  ,\n",
       "       0.39509206, 0.38592201, 0.37701059, 0.52905306, 0.38592168,\n",
       "       0.38592202, 0.38592202, 0.38592202, 0.38592202, 0.38592202,\n",
       "       0.38592202, 0.38592202, 0.38592202, 0.38592202, 0.38592202,\n",
       "       0.38592202, 0.38592202, 0.38592202, 0.38592202, 0.38592202,\n",
       "       0.38592202, 0.38592202, 0.38592202, 0.38592202, 0.38592202,\n",
       "       0.38592202, 0.38592202, 0.38592202, 0.38592202, 0.38592202,\n",
       "       0.38592202, 0.38592202, 0.38592202, 0.38592202, 0.38592202,\n",
       "       0.38592202, 0.38592202, 0.38592202, 0.38592202, 0.38592202,\n",
       "       0.38592202, 0.38592202, 0.38592202, 0.38592202, 0.38592202,\n",
       "       0.38592202, 0.38592202, 0.38592202, 0.38592202, 0.38592202,\n",
       "       0.38592202, 0.38592202, 0.38592202, 0.38592202, 0.38592202,\n",
       "       0.38592202, 0.38592202, 0.38592202, 0.38592202, 0.38592202,\n",
       "       0.38592202, 0.38592202, 0.38592202, 0.38592202, 0.38592202,\n",
       "       0.38592202, 0.38592202, 0.38592202, 0.38592202, 0.38592202,\n",
       "       0.38592202, 0.38592202, 0.38592202, 0.38592202, 0.38592202,\n",
       "       0.38592202, 0.38592202, 0.38592202, 0.38592202, 0.38592202,\n",
       "       0.38592202, 0.38592202, 0.38592202, 0.38592202, 0.38592202,\n",
       "       0.38592202, 0.38592202, 0.38592202, 0.38592202, 0.38592202,\n",
       "       0.38592202, 0.38592202, 0.38592202, 0.38592202, 0.38592202,\n",
       "       0.38592202, 0.38592202, 0.38592202, 0.38592202, 0.38592202,\n",
       "       0.38592202, 0.38592202, 0.38592202, 0.38592202, 0.38592202,\n",
       "       0.38592202, 0.38592202, 0.38592202, 0.38592202, 0.38592202,\n",
       "       0.38592202, 0.38592202, 0.38592202, 0.38592202, 0.38592202,\n",
       "       0.38592202, 0.38592202, 0.38592202, 0.38592202, 0.38592202,\n",
       "       0.38592202, 0.38592202, 0.38592202, 0.38592202, 0.38592202,\n",
       "       0.38592202, 0.38592202, 0.38592202, 0.38592202, 0.38592202,\n",
       "       0.38592202, 0.38592202, 0.38592202, 0.38592202, 0.38592202,\n",
       "       0.38592202, 0.38592202, 0.38592202, 0.38592202, 0.38592202,\n",
       "       0.38592202, 0.38592202, 0.38592202, 0.38592202, 0.38592202,\n",
       "       0.38592202, 0.38592202, 0.38592202, 0.38592202, 0.38592202,\n",
       "       0.38592202, 0.38592202, 0.38592202, 0.38592202, 0.38592202,\n",
       "       0.38592202, 0.38592202, 0.38592202, 0.38592202, 0.38592202,\n",
       "       0.38592202, 0.38592202, 0.38592202, 0.38592202, 0.38592202,\n",
       "       0.38592202, 0.38592202, 0.38592202, 0.38592202, 0.38592202,\n",
       "       0.38592202, 0.38592202, 0.38592202, 0.38592202, 0.38592202,\n",
       "       0.38592202, 0.38592202, 0.38592202, 0.38592202, 0.38592202,\n",
       "       0.38592202, 0.38592202, 0.38592202, 0.38592202, 0.38592202,\n",
       "       0.38592202, 0.38592202, 0.38592202, 0.38592202, 0.38592202,\n",
       "       0.3824629 , 0.39567102, 0.38590852, 0.38568842, 0.38850357,\n",
       "       0.38592202, 0.38592202, 0.38592202, 0.3799119 , 0.38592201,\n",
       "       0.38592202, 0.38592202, 0.38592202, 0.38592202, 0.38592202,\n",
       "       0.38592202, 0.38592202, 0.38592202, 0.38590787, 0.38592202,\n",
       "       0.38592202, 0.38592202, 0.38592202, 0.38591909, 0.3591051 ,\n",
       "       0.38592202, 0.38738271, 0.38592254, 0.38592202, 0.38881716,\n",
       "       0.38601034, 0.38592202, 0.38568752, 0.38592202, 0.38592202,\n",
       "       0.38592202, 0.38592202, 0.38592202, 0.38592202, 0.38592202,\n",
       "       0.38589394, 0.38506089, 0.38436089, 0.36967567, 0.38567902,\n",
       "       0.38592202, 0.38592202, 0.38592202, 0.36475681, 0.37773993,\n",
       "       0.385922  , 0.38592189, 0.38592494, 0.41120168, 0.43311209,\n",
       "       0.38654689, 0.38669793, 0.38594735, 0.3855559 , 0.38490168,\n",
       "       0.38559783])"
      ]
     },
     "execution_count": 104,
     "metadata": {},
     "output_type": "execute_result"
    }
   ],
   "source": [
    "svr_pred"
   ]
  },
  {
   "cell_type": "code",
   "execution_count": 105,
   "metadata": {},
   "outputs": [],
   "source": [
    "model_predictions = convertToPrediction(y_for_calculations,svr_pred)"
   ]
  },
  {
   "cell_type": "code",
   "execution_count": 106,
   "metadata": {},
   "outputs": [
    {
     "data": {
      "text/plain": [
       "array([3011., 2495., 2301., 1959., 2245., 2377., 3285., 4120., 4538.,\n",
       "       3438., 2385., 3612., 2185., 4113., 3226., 2503., 2327., 2307.,\n",
       "       2946., 3389., 3305., 3175., 1306., 1985., 2441., 4354., 4286.,\n",
       "       4091., 3469., 4042., 3256., 3638., 4526., 4597., 3776., 4167.,\n",
       "       2843., 2958., 3799., 4392., 2813., 3845., 3846., 2177., 1535.,\n",
       "       3435., 3937., 4185., 3017., 4170., 4335., 2699., 3141., 3794.,\n",
       "       4791., 5082., 3500., 2743., 3402., 4339., 4382., 1841., 5009.,\n",
       "       3206., 4082., 3436., 3346., 3971., 4935., 5403., 4587., 4150.,\n",
       "       4925., 5319., 5870., 6336., 6216., 4395., 7866., 5915., 6177.,\n",
       "       6117., 6254., 6898., 8394., 3385., 5015., 5579., 5122., 5721.,\n",
       "       6157., 5480., 6259., 6064., 5959., 6798., 6461., 6482., 6485.,\n",
       "       6883., 5189., 5607., 5941., 4881., 5430., 6423., 7489., 7160.,\n",
       "       6395., 6717., 4384., 6590., 7318., 6650., 1031., 3227., 5655.,\n",
       "       6219., 5053., 6257., 4236., 6328., 5594., 5762., 6193., 6446.,\n",
       "       6320., 6910., 6384., 6297., 5750., 4735., 6597., 7057., 7458.,\n",
       "       6142., 2854., 5135., 7453., 7412., 7668., 8326., 7157., 4376.,\n",
       "       6096., 5280., 6796., 6760., 6561., 6616., 6066., 5765., 6881.,\n",
       "       7366., 4143., 8151., 7670., 7025., 7028., 7082., 7523., 7766.,\n",
       "       7527., 6623., 6690., 4991., 7450., 7391., 7695., 7732., 7005.,\n",
       "       5119., 6851., 6235., 5928., 5845., 7487., 6918., 6805., 7471.,\n",
       "       7363., 6906., 5484., 5709., 5552., 6251., 6686., 7432., 6265.,\n",
       "       6231., 4859., 4690., 6594., 6314., 7292., 7475., 7528., 6996.,\n",
       "       6054., 6856., 6812., 5735., 6616., 5893., 4476., 7439., 6993.,\n",
       "       7621., 8205., 6887., 6931., 6711., 6622., 7132., 7244., 7609.,\n",
       "       7289., 7203., 6850., 5485., 7040., 7301., 7563., 7314., 5808.,\n",
       "       6323., 6569., 6910., 6810., 7375., 7634., 7176., 7895., 4567.,\n",
       "       6555., 7033., 7403., 7795., 7611., 6076., 5275., 6944., 7067.,\n",
       "       7727., 7743., 7378., 6164., 5832., 6057., 6890., 7139., 6227.,\n",
       "       7533., 5999., 8259., 7554., 7797., 7900., 7834., 8040., 8748.,\n",
       "       7361., 6896., 4089., 7620., 7750., 8199., 8427., 7938., 7465.,\n",
       "       7567., 7763., 7422., 7444., 8588., 6916., 6804., 4657., 7601.,\n",
       "       7356., 8187., 7996., 3524., 5499., 6417., 7721., 7599., 7310.,\n",
       "       7136., 6665., 5898., 7563., 7490., 7538., 5445., 8121., 6850.,\n",
       "       7085., 7495., 7723., 7387., 7473., 7882., 4476.,   22., 1100.,\n",
       "       5588., 6009., 5870., 5158., 5127., 5279., 5708., 5054., 5336.,\n",
       "       6015., 6561., 6878., 6293., 4110., 5516., 5466., 5720., 5651.,\n",
       "       4687., 5520., 5656., 5166., 2434., 3924., 2286., 2433., 5107.,\n",
       "       3974., 5280., 5344., 5690., 5211., 4667., 6258., 6631., 5751.,\n",
       "       5396., 5027., 5604., 3240., 5190., 5522., 5339., 5553., 5633.,\n",
       "       5066., 3801., 4602., 5578., 5287., 4144., 3637., 1756., 1795.,\n",
       "        924., 1017.,  443., 2122., 3107., 1346.])"
      ]
     },
     "execution_count": 106,
     "metadata": {},
     "output_type": "execute_result"
    }
   ],
   "source": [
    "model_predictions"
   ]
  },
  {
   "cell_type": "code",
   "execution_count": 107,
   "metadata": {},
   "outputs": [
    {
     "name": "stdout",
     "output_type": "stream",
     "text": [
      "1438598.0\n"
     ]
    }
   ],
   "source": [
    "print(profit(actual_predictions,model_predictions).sum())"
   ]
  },
  {
   "cell_type": "markdown",
   "metadata": {},
   "source": [
    "## Methodology"
   ]
  },
  {
   "cell_type": "markdown",
   "metadata": {},
   "source": [
    "### Implementation\n",
    "\n",
    "The regressors are trained using randomized search and cross-validation to identify the area of the best parameters. Then a grid search is used to tune parameter values of the regressor functions.\n",
    "\n",
    "> http://scikit-learn.org/stable/modules/generated/sklearn.grid_search.GridSearchCV.html  \n",
    "> http://scikit-learn.org/stable/modules/generated/sklearn.grid_search.RandomizedSearchCV.html"
   ]
  },
  {
   "cell_type": "code",
   "execution_count": 108,
   "metadata": {
    "scrolled": true
   },
   "outputs": [
    {
     "name": "stdout",
     "output_type": "stream",
     "text": [
      "GridSearchCV(cv=None, error_score='raise',\n",
      "       estimator=SVR(C=1, cache_size=200, coef0=0.0, degree=3, epsilon=0.1, gamma='auto',\n",
      "  kernel='rbf', max_iter=-1, shrinking=True, tol=0.001, verbose=False),\n",
      "       fit_params={}, iid=True, n_jobs=-1,\n",
      "       param_grid=[{'C': [1000, 3000, 10000], 'kernel': ['linear', 'rbf']}],\n",
      "       pre_dispatch='2*n_jobs', refit=True, scoring='r2', verbose=0)\n",
      "\n",
      "Best parameter from grid search: {'C': 1000, 'kernel': 'rbf'}\n",
      "\n"
     ]
    }
   ],
   "source": [
    "# Tuning SVR with GridSearch\n",
    "\n",
    "tuned_parameters = [{'C': [1000, 3000, 10000], \n",
    "                     'kernel': ['linear', 'rbf']}\n",
    "                   ]\n",
    "\n",
    "#svr_tuned = GridSearchCV(SVR (C=1), param_grid = tuned_parameters, scoring = 'mean_squared_error') #default 3-fold cross-validation, score method of the estimator\n",
    "svr_tuned_GS = GridSearchCV(SVR (C=1), param_grid = tuned_parameters, scoring = 'r2', n_jobs=-1) #default 3-fold cross-validation, score method of the estimator\n",
    "\n",
    "svr_tuned_GS.fit(X_train, y_train)\n",
    "\n",
    "print (svr_tuned_GS)\n",
    "print ('\\n' \"Best parameter from grid search: \" + str(svr_tuned_GS.best_params_) +'\\n')"
   ]
  },
  {
   "cell_type": "code",
   "execution_count": 109,
   "metadata": {},
   "outputs": [
    {
     "name": "stdout",
     "output_type": "stream",
     "text": [
      "SVR Results\n",
      "\n",
      "Score SVR: -0.003308\n",
      "Score SVR tuned GS: -0.002516\n",
      "\n",
      "RMSE SVR: 1318.398984\n",
      "RMSE SVR tuned GS: 1317.878750\n"
     ]
    }
   ],
   "source": [
    "# Validation - SVR tuned \n",
    "\n",
    "svr_tuned_pred_GS = svr_tuned_GS.predict(X_test)\n",
    "\n",
    "score_svr_tuned_GS = r2_score(y_test, svr_tuned_pred_GS)\n",
    "rmse_svr_tuned_GS = sqrt(mean_squared_error(y_test, svr_tuned_pred_GS))\n",
    "\n",
    "print(\"SVR Results\\n\")\n",
    "\n",
    "print(\"Score SVR: %f\" % score_svr)\n",
    "print(\"Score SVR tuned GS: %f\" % score_svr_tuned_GS)\n",
    "\n",
    "print(\"\\nRMSE SVR: %f\" % rmse_svr)\n",
    "print(\"RMSE SVR tuned GS: %f\" % rmse_svr_tuned_GS)"
   ]
  },
  {
   "cell_type": "code",
   "execution_count": 110,
   "metadata": {},
   "outputs": [
    {
     "name": "stdout",
     "output_type": "stream",
     "text": [
      "1260233.0\n"
     ]
    }
   ],
   "source": [
    "svr_tuned_pred_GS\n",
    "\n",
    "\n",
    "##Profit Calculation for pct approach\n",
    "model_predictions = convertToPrediction(y_for_calculations,svr_tuned_pred_GS)\n",
    "print(profit(actual_predictions,model_predictions).sum())\n",
    "\n",
    "#Profit is just 1.26million!!"
   ]
  },
  {
   "cell_type": "code",
   "execution_count": 111,
   "metadata": {},
   "outputs": [
    {
     "name": "stdout",
     "output_type": "stream",
     "text": [
      "best CV score from grid search: -0.037775\n",
      "corresponding parameters: {'C': 9490.133679029495, 'kernel': 'rbf'}\n"
     ]
    }
   ],
   "source": [
    "# SVR tuned with RandomizesSearch\n",
    "# may take a while!\n",
    "\n",
    "# Parameters\n",
    "param_dist = {  'C': sp_uniform (1000, 10000), \n",
    "                'kernel': ['rbf']\n",
    "             }\n",
    "\n",
    "n_iter_search = 1\n",
    "\n",
    "# MSE optimized\n",
    "#SVR_tuned_RS = RandomizedSearchCV(SVR (C=1), param_distributions = param_dist, scoring = 'mean_squared_error', n_iter=n_iter_search)\n",
    "\n",
    "# R^2 optimized\n",
    "SVR_tuned_RS = RandomizedSearchCV(SVR (C=1), param_distributions = param_dist, scoring = 'r2', n_iter=n_iter_search)\n",
    "\n",
    "# Fit\n",
    "SVR_tuned_RS.fit(X_train, y_train)\n",
    "\n",
    "# Best score and corresponding parameters.\n",
    "print('best CV score from grid search: {0:f}'.format(SVR_tuned_RS.best_score_))\n",
    "print('corresponding parameters: {}'.format(SVR_tuned_RS.best_params_))\n",
    "\n",
    "# Predict and score\n",
    "predict = SVR_tuned_RS.predict(X_test)\n",
    "\n",
    "score_svr_tuned_RS = r2_score(y_test, predict)\n",
    "rmse_svr_tuned_RS = sqrt(mean_squared_error(y_test, predict))"
   ]
  },
  {
   "cell_type": "code",
   "execution_count": 112,
   "metadata": {},
   "outputs": [
    {
     "name": "stdout",
     "output_type": "stream",
     "text": [
      "SVR Results\n",
      "\n",
      "Score SVR: -0.003308\n",
      "Score SVR tuned GS: -0.002516\n",
      "Score SVR tuned RS: -0.002516\n",
      "\n",
      "RMSE SVR: 1318.398984\n",
      "RMSE SVR tuned GS: 1317.878750\n",
      "RMSE SVR tuned RS: 1317.878750\n"
     ]
    }
   ],
   "source": [
    "print('SVR Results\\n')\n",
    "\n",
    "print(\"Score SVR: %f\" % score_svr)\n",
    "print(\"Score SVR tuned GS: %f\" % score_svr_tuned_GS)\n",
    "print(\"Score SVR tuned RS: %f\" % score_svr_tuned_RS)\n",
    "\n",
    "print(\"\\nRMSE SVR: %f\" % rmse_svr)\n",
    "print(\"RMSE SVR tuned GS: %f\" % rmse_svr_tuned_GS)\n",
    "print(\"RMSE SVR tuned RS: %f\" % rmse_svr_tuned_RS)"
   ]
  },
  {
   "cell_type": "code",
   "execution_count": 113,
   "metadata": {},
   "outputs": [
    {
     "name": "stdout",
     "output_type": "stream",
     "text": [
      "1260233.0\n"
     ]
    }
   ],
   "source": [
    "##Profit Calculation for pct approach\n",
    "model_predictions = convertToPrediction(y_for_calculations,predict)\n",
    "print(profit(actual_predictions,model_predictions).sum())"
   ]
  },
  {
   "cell_type": "markdown",
   "metadata": {},
   "source": [
    "The tuning works for the SVR."
   ]
  },
  {
   "cell_type": "markdown",
   "metadata": {},
   "source": [
    "### DNN Regressor"
   ]
  },
  {
   "cell_type": "code",
   "execution_count": 114,
   "metadata": {},
   "outputs": [],
   "source": [
    "from sklearn.neural_network import MLPRegressor"
   ]
  },
  {
   "cell_type": "code",
   "execution_count": 115,
   "metadata": {},
   "outputs": [],
   "source": [
    "import logging\n",
    "from concurrent.futures import ThreadPoolExecutor, wait\n",
    "from time import time\n",
    "from typing import List"
   ]
  },
  {
   "cell_type": "code",
   "execution_count": 116,
   "metadata": {},
   "outputs": [],
   "source": [
    "bike_model = MLPRegressor(hidden_layer_sizes=(5,),\n",
    "                                       activation='relu',\n",
    "                                       solver='adam',\n",
    "                                       learning_rate='adaptive',\n",
    "                                       max_iter=1000,\n",
    "                                       learning_rate_init=0.01,\n",
    "                                       alpha=0.01)"
   ]
  },
  {
   "cell_type": "code",
   "execution_count": 117,
   "metadata": {},
   "outputs": [],
   "source": [
    "start_time = int(time() * 1000)\n",
    "bike_model.fit(X_train, y_train)\n",
    "end_time = int(time() * 1000)\n",
    "logging.debug('Finished training universal model')\n",
    "logging.debug('Training took {} ms'.format(end_time - start_time)) "
   ]
  },
  {
   "cell_type": "code",
   "execution_count": 118,
   "metadata": {},
   "outputs": [],
   "source": [
    "predict = bike_model.predict(X_test)"
   ]
  },
  {
   "cell_type": "code",
   "execution_count": 119,
   "metadata": {
    "collapsed": true
   },
   "outputs": [
    {
     "data": {
      "text/plain": [
       "array([ -0.77751408,  -2.28696885,  -1.83510422,  -1.5752995 ,\n",
       "        -1.36235334,  -1.10147798,  -2.23428067,  -1.72150293,\n",
       "        -1.27831887,  -2.86140981,  -2.15651825,  -2.86291191,\n",
       "        -1.58651975,  -1.79501972,  -2.96574772,  -0.67574913,\n",
       "        -1.04164939,  -1.92313006,  -0.90912715,  -1.56278038,\n",
       "        -1.05996477,  -0.67197839,  -1.97623013,  -0.83450369,\n",
       "        -1.41903685,  -2.07934445,  -1.75287998,  -2.79977593,\n",
       "        -4.66926668,  -3.7859783 ,  -1.99700761,  -3.30337019,\n",
       "        -4.17063264,  -3.83010069,  -3.95039498,  -4.92459413,\n",
       "        -3.3122308 ,  -3.02200252,  -3.93327902,  -2.02363312,\n",
       "        -2.39767548,  -4.55686566,  -3.35476197,  -2.46027319,\n",
       "        -3.57687536,  -0.68392344,  -0.82844783,  -3.81701901,\n",
       "        -2.15953806,  -2.99836439,  -3.31914802,  -1.69198986,\n",
       "        -3.47223053,  -2.01923111,  -3.20797431,  -5.21304823,\n",
       "        -4.65215547,  -4.8731797 ,  -3.72762329,  -3.01093175,\n",
       "        -4.91218707,  -3.88674543,  -5.32911957,  -4.48003755,\n",
       "        -4.08732931,  -4.93118405,  -3.1979153 ,  -3.76865688,\n",
       "        -4.92663229,  -4.85334571,  -5.01834786,  -5.43021976,\n",
       "        -4.58649763,  -3.99275635,  -5.41763298,  -5.16729765,\n",
       "        -5.84625915,  -5.72970878,  -6.49478075,  -6.09695828,\n",
       "        -5.21582227,  -5.03140795,  -5.63317982,  -6.64191891,\n",
       "        -7.38104201,  -6.1900986 ,  -6.87748479,  -5.35948263,\n",
       "        -4.83629662,  -4.43164447,  -6.15537369,  -6.38185098,\n",
       "        -6.86065389,  -6.53054912,  -5.76603036,  -5.79555766,\n",
       "        -6.30534591,  -7.42935018,  -6.94965277,  -6.81925598,\n",
       "        -6.35430745,  -6.17889756,  -5.97592654,  -5.47144129,\n",
       "        -5.44206149,  -5.71700292,  -5.86283997,  -5.90753294,\n",
       "        -6.12466184,  -6.23602007,  -5.72991465,  -6.61003876,\n",
       "        -5.81467654,  -4.94307396,  -6.50848484,  -6.90606865,\n",
       "        -5.46493195,  -3.31632297,  -5.29193854,  -7.35463384,\n",
       "        -5.63123029,  -6.5745317 ,  -6.73004207,  -6.38951485,\n",
       "        -7.43772759,  -6.08010259,  -7.6796058 ,  -7.42205585,\n",
       "        -7.09534621,  -8.0597229 ,  -6.57842813,  -6.67273004,\n",
       "        -6.84934912,  -6.42011128,  -6.54663587,  -7.33294446,\n",
       "        -6.25412309,  -6.62564661,  -6.34066248,  -5.08897388,\n",
       "        -6.38727309,  -7.91065786,  -7.6355694 ,  -6.85867596,\n",
       "        -8.82853786,  -7.93278572,  -7.15842865,  -7.01491245,\n",
       "        -7.47903582,  -8.27020163,  -7.73706539,  -7.50026611,\n",
       "        -8.16916365,  -9.3130526 ,  -7.81806387,  -8.09013499,\n",
       "        -8.79544422,  -7.59282699,  -8.81098824,  -9.52391606,\n",
       "        -8.67516803,  -8.18257144,  -9.29581105,  -8.61863909,\n",
       "        -8.50463958,  -8.49706183,  -8.07716343,  -6.84539419,\n",
       "        -7.93314184,  -8.58722092,  -8.33512777,  -7.68119856,\n",
       "        -8.20376698,  -6.93743383,  -8.0143178 ,  -8.46953354,\n",
       "        -8.21330111,  -7.75715254,  -7.72993657,  -7.89371924,\n",
       "        -8.08692216,  -8.2709259 ,  -8.74173296,  -8.14743843,\n",
       "        -7.63431702,  -7.47493297,  -7.24767273,  -7.55200179,\n",
       "        -7.92953968,  -8.07600358,  -7.46489898,  -6.96174215,\n",
       "        -6.66680441,  -7.25816114,  -7.11885186,  -6.48562489,\n",
       "        -7.88493883,  -9.02995845,  -8.08493343,  -6.46579448,\n",
       "        -7.13714458,  -7.58425356,  -7.26564292,  -7.09764565,\n",
       "        -8.40944543,  -8.92181279,  -7.39325394,  -6.94011441,\n",
       "        -8.93608783, -10.01030699,  -9.41567467,  -8.92673123,\n",
       "        -8.66755441,  -9.11167261,  -9.09406907,  -9.21915298,\n",
       "        -9.6307974 ,  -9.74890338,  -9.88921288,  -8.49891028,\n",
       "        -7.72074832,  -9.71124268,  -8.93511937,  -8.52649446,\n",
       "        -8.40718723,  -8.80330873,  -9.17953165,  -6.97056643,\n",
       "        -7.63120494,  -8.93651021,  -8.75140502,  -8.84541738,\n",
       "        -8.66926635,  -8.03941252, -10.0597349 ,  -9.63088661,\n",
       "        -8.1212019 ,  -9.34376053, -10.76050433, -10.27361388,\n",
       "        -9.58322218,  -8.61473075,  -8.25667743,  -8.56453237,\n",
       "       -10.71560436, -10.61664289, -10.18690399, -10.41609808,\n",
       "        -9.71981451,  -7.98452227,  -8.73704748,  -9.88029213,\n",
       "       -10.41905615,  -9.01286017,  -9.30228171,  -9.75571526,\n",
       "        -8.90295314, -10.28889391, -10.50932483, -10.39423899,\n",
       "       -10.26586933, -10.23669343,  -9.83026197,  -9.57160915,\n",
       "       -10.79967712,  -9.46424076, -10.51961669, -11.20383443,\n",
       "       -11.48361698, -10.68516664, -10.59119202,  -9.99774015,\n",
       "       -10.06896167, -10.58723331, -10.88388587,  -9.18945424,\n",
       "        -9.66399991, -10.47720146, -10.31398335,  -8.67726937,\n",
       "        -9.00702904,  -9.75784821,  -8.9874052 ,  -9.94339097,\n",
       "        -8.86937974,  -7.96902253,  -8.01274362,  -9.16427958,\n",
       "        -9.91618154,  -9.31965473,  -8.75596087,  -9.45544815,\n",
       "        -8.38724554,  -8.18471612, -11.64614658, -10.83822813,\n",
       "        -9.13148826,  -9.80075206, -10.58997235, -10.45747959,\n",
       "       -10.596998  , -11.53622091, -10.95882988,  -9.3952088 ,\n",
       "        -8.17745714,  -8.26888643,  -6.94306625,  -6.32272062,\n",
       "        -8.00739489,  -7.45283573,  -9.19223046,  -9.0301945 ,\n",
       "        -7.84836501,  -8.81404136,  -9.16466263,  -8.4621288 ,\n",
       "        -7.94302055,  -9.52056518,  -9.09058356,  -8.65571667,\n",
       "        -9.20400324,  -8.25097582,  -8.24885094,  -8.11817348,\n",
       "        -8.61159859,  -9.87788882, -10.07487078,  -9.55776038,\n",
       "        -7.90777207,  -8.4666123 ,  -8.11254356,  -6.97760754,\n",
       "        -6.89111354,  -7.00757372,  -7.8746397 ,  -8.57090385,\n",
       "        -8.77516138,  -9.63220703,  -9.87252894,  -9.89578116,\n",
       "        -8.57880203,  -9.29942166, -10.3858715 ,  -9.92708859,\n",
       "       -10.03384413,  -9.09114867,  -8.00667254,  -8.51788648,\n",
       "        -8.47683959,  -8.76718291,  -8.61560616,  -8.46672401,\n",
       "        -8.90540965,  -8.79559063, -10.07382186,  -8.64099886,\n",
       "        -9.56388693, -10.67996797, -10.88320956,  -8.469526  ,\n",
       "        -9.65864518, -10.47666181,  -8.70244263,  -8.90768311,\n",
       "        -8.97169957,  -7.98775002])"
      ]
     },
     "execution_count": 119,
     "metadata": {},
     "output_type": "execute_result"
    }
   ],
   "source": [
    "predict"
   ]
  },
  {
   "cell_type": "code",
   "execution_count": 120,
   "metadata": {},
   "outputs": [],
   "source": [
    "model_predictions = convertToPrediction(y_for_calculations,predict)"
   ]
  },
  {
   "cell_type": "code",
   "execution_count": 121,
   "metadata": {},
   "outputs": [
    {
     "name": "stdout",
     "output_type": "stream",
     "text": [
      "1491292.0\n"
     ]
    }
   ],
   "source": [
    "print(profit(actual_predictions,model_predictions).sum())"
   ]
  },
  {
   "cell_type": "markdown",
   "metadata": {},
   "source": [
    "#### BOOSTING"
   ]
  },
  {
   "cell_type": "code",
   "execution_count": 123,
   "metadata": {},
   "outputs": [],
   "source": [
    "from sklearn.linear_model import LinearRegression,Ridge,Lasso,RidgeCV\n",
    "from sklearn.ensemble import RandomForestRegressor,BaggingRegressor,GradientBoostingRegressor,AdaBoostRegressor\n",
    "from sklearn.svm import SVR\n",
    "from sklearn.neighbors import KNeighborsRegressor"
   ]
  },
  {
   "cell_type": "code",
   "execution_count": 126,
   "metadata": {},
   "outputs": [],
   "source": [
    "#evaluation metrics\n",
    "from sklearn.metrics import mean_squared_log_error,mean_squared_error, r2_score,mean_absolute_error # for regression\n",
    "from sklearn.metrics import accuracy_score,precision_score,recall_score,f1_score  # for classification\n",
    " "
   ]
  },
  {
   "cell_type": "code",
   "execution_count": 145,
   "metadata": {},
   "outputs": [
    {
     "name": "stdout",
     "output_type": "stream",
     "text": [
      "1443003.0\n",
      "1189343.0\n",
      "1412028.0\n",
      "1438598.0\n",
      "1403696.0\n"
     ]
    }
   ],
   "source": [
    "models=[RandomForestRegressor(),AdaBoostRegressor(),BaggingRegressor(),SVR(),KNeighborsRegressor()]\n",
    "model_names=['RandomForestRegressor','AdaBoostRegressor','BaggingRegressor','SVR','KNeighborsRegressor']\n",
    "rmsle=[]\n",
    "d={}\n",
    "for model in range (len(models)):\n",
    "    clf=models[model]\n",
    "    clf.fit(X_train,y_train)\n",
    "    test_pred=clf.predict(X_test)\n",
    "    model_predictions = convertToPrediction(y_for_calculations,test_pred)\n",
    "    print(profit(actual_predictions,model_predictions).sum())"
   ]
  },
  {
   "cell_type": "code",
   "execution_count": 150,
   "metadata": {},
   "outputs": [
    {
     "name": "stdout",
     "output_type": "stream",
     "text": [
      "1462796.0\n"
     ]
    }
   ],
   "source": [
    "#NOW LET'S Dig deeper into each of these ...\n",
    "#for random forest regresion.\n",
    "from sklearn.ensemble import RandomForestRegressor\n",
    "from sklearn import pipeline\n",
    "\n",
    "regressor = RandomForestRegressor(random_state = 0, max_depth = 20, n_estimators = 150)\n",
    "estimator = pipeline.Pipeline(steps = [       \n",
    "    ('model_fitting', regressor)\n",
    "    ]\n",
    ")\n",
    "estimator.fit(X_train, y_train)\n",
    "test_pred = estimator.predict(X_test)\n",
    "model_predictions = convertToPrediction(y_for_calculations,test_pred)\n",
    "print(profit(actual_predictions,model_predictions).sum())"
   ]
  }
 ],
 "metadata": {
  "kernelspec": {
   "display_name": "Python 3",
   "language": "python",
   "name": "python3"
  },
  "language_info": {
   "codemirror_mode": {
    "name": "ipython",
    "version": 3
   },
   "file_extension": ".py",
   "mimetype": "text/x-python",
   "name": "python",
   "nbconvert_exporter": "python",
   "pygments_lexer": "ipython3",
   "version": "3.6.5"
  }
 },
 "nbformat": 4,
 "nbformat_minor": 1
}
